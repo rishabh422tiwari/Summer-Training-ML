{
  "metadata": {
    "kernelspec": {
      "language": "python",
      "display_name": "Python 3",
      "name": "python3"
    },
    "language_info": {
      "name": "python",
      "version": "3.7.12",
      "mimetype": "text/x-python",
      "codemirror_mode": {
        "name": "ipython",
        "version": 3
      },
      "pygments_lexer": "ipython3",
      "nbconvert_exporter": "python",
      "file_extension": ".py"
    },
    "colab": {
      "name": "detailed-data-analysis-and-house-price-prediction.ipynb",
      "provenance": [],
      "collapsed_sections": [],
      "include_colab_link": true
    }
  },
  "nbformat_minor": 0,
  "nbformat": 4,
  "cells": [
    {
      "cell_type": "markdown",
      "metadata": {
        "id": "view-in-github",
        "colab_type": "text"
      },
      "source": [
        "<a href=\"https://colab.research.google.com/github/vkate1/Summer-Training-for-III-year/blob/main/Day2/Kaggle/detailed_data_analysis_and_house_price_prediction.ipynb\" target=\"_parent\"><img src=\"https://colab.research.google.com/assets/colab-badge.svg\" alt=\"Open In Colab\"/></a>"
      ]
    },
    {
      "cell_type": "markdown",
      "source": [
        "# House price Prediction\n",
        "In this notebook I tried to bring detailed data analysis and some simple yet complex regression techniques. I hope you guys enjoy my analysis here."
      ],
      "metadata": {
        "id": "_Qpv2OC4fgt2"
      }
    },
    {
      "cell_type": "markdown",
      "source": [
        "In the first few cells I imported all necessary libraies and explored our train and test dataset."
      ],
      "metadata": {
        "id": "SlIgdg_Bfgt9"
      }
    },
    {
      "cell_type": "code",
      "source": [
        "import pandas as pd\n",
        "import numpy as np\n",
        "import matplotlib.pyplot as plt"
      ],
      "metadata": {
        "execution": {
          "iopub.status.busy": "2022-06-20T12:57:45.069829Z",
          "iopub.execute_input": "2022-06-20T12:57:45.070349Z",
          "iopub.status.idle": "2022-06-20T12:57:45.076031Z",
          "shell.execute_reply.started": "2022-06-20T12:57:45.070299Z",
          "shell.execute_reply": "2022-06-20T12:57:45.074763Z"
        },
        "trusted": true,
        "id": "aRivoHoVfgt-"
      },
      "execution_count": null,
      "outputs": []
    },
    {
      "cell_type": "code",
      "source": [
        "training_dataset = pd.read_csv('../input/house-prices-advanced-regression-techniques/train.csv')\n",
        "testing_dataset = pd.read_csv('../input/house-prices-advanced-regression-techniques/test.csv')\n",
        "training_dataset.head()"
      ],
      "metadata": {
        "execution": {
          "iopub.status.busy": "2022-06-20T12:59:31.187049Z",
          "iopub.execute_input": "2022-06-20T12:59:31.187463Z",
          "iopub.status.idle": "2022-06-20T12:59:31.259551Z",
          "shell.execute_reply.started": "2022-06-20T12:59:31.187432Z",
          "shell.execute_reply": "2022-06-20T12:59:31.258591Z"
        },
        "trusted": true,
        "id": "7uRzfU_mfgt_"
      },
      "execution_count": null,
      "outputs": []
    },
    {
      "cell_type": "code",
      "source": [
        "training_dataset.shape"
      ],
      "metadata": {
        "execution": {
          "iopub.status.busy": "2022-06-20T13:00:07.170582Z",
          "iopub.execute_input": "2022-06-20T13:00:07.171075Z",
          "iopub.status.idle": "2022-06-20T13:00:07.177152Z",
          "shell.execute_reply.started": "2022-06-20T13:00:07.171039Z",
          "shell.execute_reply": "2022-06-20T13:00:07.176328Z"
        },
        "trusted": true,
        "id": "99mOvRIPfguA"
      },
      "execution_count": null,
      "outputs": []
    },
    {
      "cell_type": "code",
      "source": [
        "train.SalePrice.describe()"
      ],
      "metadata": {
        "execution": {
          "iopub.status.busy": "2022-06-20T13:00:59.376009Z",
          "iopub.execute_input": "2022-06-20T13:00:59.376498Z",
          "iopub.status.idle": "2022-06-20T13:00:59.393858Z",
          "shell.execute_reply.started": "2022-06-20T13:00:59.376444Z",
          "shell.execute_reply": "2022-06-20T13:00:59.392559Z"
        },
        "trusted": true,
        "id": "fXDfOsTFfguA"
      },
      "execution_count": null,
      "outputs": []
    },
    {
      "cell_type": "code",
      "source": [
        "plt.hist(training_dataset.SalePrice,color='Red')\n",
        "plt.show()"
      ],
      "metadata": {
        "execution": {
          "iopub.status.busy": "2022-06-20T13:02:51.889956Z",
          "iopub.execute_input": "2022-06-20T13:02:51.890565Z",
          "iopub.status.idle": "2022-06-20T13:02:52.129838Z",
          "shell.execute_reply.started": "2022-06-20T13:02:51.890511Z",
          "shell.execute_reply": "2022-06-20T13:02:52.128542Z"
        },
        "trusted": true,
        "id": "X_XSH_PQfguB"
      },
      "execution_count": null,
      "outputs": []
    },
    {
      "cell_type": "code",
      "source": [
        "target =np.log(training_dataset.SalePrice)\n",
        "plt.hist(target,color='Blue')\n",
        "plt.show()"
      ],
      "metadata": {
        "execution": {
          "iopub.status.busy": "2022-06-20T13:05:21.984010Z",
          "iopub.execute_input": "2022-06-20T13:05:21.984472Z",
          "iopub.status.idle": "2022-06-20T13:05:22.182663Z",
          "shell.execute_reply.started": "2022-06-20T13:05:21.984429Z",
          "shell.execute_reply": "2022-06-20T13:05:22.181423Z"
        },
        "trusted": true,
        "id": "9sq7zCn2fguB"
      },
      "execution_count": null,
      "outputs": []
    },
    {
      "cell_type": "code",
      "source": [
        "numeric_features=training_dataset.select_dtypes(include=[np.number])\n",
        "numeric_features.dtypes\n"
      ],
      "metadata": {
        "execution": {
          "iopub.status.busy": "2022-06-20T13:14:30.254753Z",
          "iopub.execute_input": "2022-06-20T13:14:30.255151Z",
          "iopub.status.idle": "2022-06-20T13:14:30.266904Z",
          "shell.execute_reply.started": "2022-06-20T13:14:30.255121Z",
          "shell.execute_reply": "2022-06-20T13:14:30.265791Z"
        },
        "trusted": true,
        "id": "Bq5Yie57fguC"
      },
      "execution_count": null,
      "outputs": []
    },
    {
      "cell_type": "code",
      "source": [
        "corr=numeric_features.corr()\n",
        "print(corr['SalePrice'].sort_values(ascending=False)[:5],'\\n')\n",
        "print(corr['SalePrice'].sort_values(ascending=False)[-5:],'\\n')\n"
      ],
      "metadata": {
        "execution": {
          "iopub.status.busy": "2022-06-20T13:18:49.243599Z",
          "iopub.execute_input": "2022-06-20T13:18:49.243996Z",
          "iopub.status.idle": "2022-06-20T13:18:49.265730Z",
          "shell.execute_reply.started": "2022-06-20T13:18:49.243965Z",
          "shell.execute_reply": "2022-06-20T13:18:49.264305Z"
        },
        "trusted": true,
        "id": "lP9qDVsJfguD"
      },
      "execution_count": null,
      "outputs": []
    },
    {
      "cell_type": "code",
      "source": [
        "quality_pivot=training_dataset.pivot_table(index='OverallQual',values='SalePrice', aggfunc=np.median)\n",
        "quality_pivot.plot(kind='bar', color='blue')\n",
        "\n",
        "plt.xlabel('Overall Quality')\n",
        "plt.xlabel('Median Sale Price')\n",
        "plt.xticks(rotation=0)\n",
        "plt.show()\n",
        "\n"
      ],
      "metadata": {
        "execution": {
          "iopub.status.busy": "2022-06-20T13:29:59.137031Z",
          "iopub.execute_input": "2022-06-20T13:29:59.137505Z",
          "iopub.status.idle": "2022-06-20T13:29:59.376068Z",
          "shell.execute_reply.started": "2022-06-20T13:29:59.137450Z",
          "shell.execute_reply": "2022-06-20T13:29:59.374816Z"
        },
        "trusted": true,
        "id": "RDJYXFkdfguD"
      },
      "execution_count": null,
      "outputs": []
    },
    {
      "cell_type": "code",
      "source": [
        "plt.scatter(x=training_dataset['GrLivArea'], y=np.log(training_dataset['SalePrice']))\n",
        "plt.ylabel('Sale Price')\n",
        "plt.xlabel('Above Grade Living area square feet')\n",
        "\n",
        "plt.show()\n"
      ],
      "metadata": {
        "execution": {
          "iopub.status.busy": "2022-06-20T13:39:29.671584Z",
          "iopub.execute_input": "2022-06-20T13:39:29.672343Z",
          "iopub.status.idle": "2022-06-20T13:39:29.871351Z",
          "shell.execute_reply.started": "2022-06-20T13:39:29.672295Z",
          "shell.execute_reply": "2022-06-20T13:39:29.870363Z"
        },
        "trusted": true,
        "id": "IEmAaofjfguE"
      },
      "execution_count": null,
      "outputs": []
    },
    {
      "cell_type": "code",
      "source": [
        "plt.scatter(x=training_dataset['GarageArea'], y=np.log(training_dataset['SalePrice']))\n",
        "plt.ylabel('Sale Price')\n",
        "plt.xlabel('Garage Area')\n",
        "\n",
        "plt.show()\n"
      ],
      "metadata": {
        "execution": {
          "iopub.status.busy": "2022-06-20T13:40:17.146919Z",
          "iopub.execute_input": "2022-06-20T13:40:17.147354Z",
          "iopub.status.idle": "2022-06-20T13:40:17.351323Z",
          "shell.execute_reply.started": "2022-06-20T13:40:17.147320Z",
          "shell.execute_reply": "2022-06-20T13:40:17.350162Z"
        },
        "trusted": true,
        "id": "GgyfMfuSfguE"
      },
      "execution_count": null,
      "outputs": []
    },
    {
      "cell_type": "code",
      "source": [
        "training_dataset=training_dataset[training_dataset['GarageArea']< 1200]\n",
        "\n",
        "plt.scatter(x=training_dataset['GarageArea'], y=np.log(training_dataset.SalePrice))\n",
        "\n",
        "plt.xlim(-200,1600)\n",
        "plt.ylabel('Sale Price')\n",
        "plt.xlabel('Garage Area')\n",
        "\n",
        "plt.show()\n",
        "\n"
      ],
      "metadata": {
        "execution": {
          "iopub.status.busy": "2022-06-20T13:46:58.479194Z",
          "iopub.execute_input": "2022-06-20T13:46:58.479684Z",
          "iopub.status.idle": "2022-06-20T13:46:58.703142Z",
          "shell.execute_reply.started": "2022-06-20T13:46:58.479648Z",
          "shell.execute_reply": "2022-06-20T13:46:58.702020Z"
        },
        "trusted": true,
        "id": "CZgM-xyqfguF"
      },
      "execution_count": null,
      "outputs": []
    },
    {
      "cell_type": "code",
      "source": [
        "nulls=pd.DataFrame(training_dataset.isnull().sum().sort_values(ascending=False)[:25])\n",
        "nulls.columns=['Null Count']\n",
        "nulls.index.name='Feature'\n",
        "nulls\n"
      ],
      "metadata": {
        "execution": {
          "iopub.status.busy": "2022-06-20T13:50:35.736364Z",
          "iopub.execute_input": "2022-06-20T13:50:35.736784Z",
          "iopub.status.idle": "2022-06-20T13:50:35.758090Z",
          "shell.execute_reply.started": "2022-06-20T13:50:35.736752Z",
          "shell.execute_reply": "2022-06-20T13:50:35.756878Z"
        },
        "trusted": true,
        "id": "3p0R-3rYfguF"
      },
      "execution_count": null,
      "outputs": []
    },
    {
      "cell_type": "code",
      "source": [
        "categoricals=training_dataset.select_dtypes(exclude=[np.number])\n",
        "\n",
        "categoricals.describe()"
      ],
      "metadata": {
        "execution": {
          "iopub.status.busy": "2022-06-20T13:52:51.821521Z",
          "iopub.execute_input": "2022-06-20T13:52:51.821934Z",
          "iopub.status.idle": "2022-06-20T13:52:51.916072Z",
          "shell.execute_reply.started": "2022-06-20T13:52:51.821903Z",
          "shell.execute_reply": "2022-06-20T13:52:51.915361Z"
        },
        "trusted": true,
        "id": "nW-u2UDPfguG"
      },
      "execution_count": null,
      "outputs": []
    },
    {
      "cell_type": "code",
      "source": [
        "training-dataset['enc_street']=pd.get_dummies(training_dataset.Street,drop_first=True)\n",
        "test-dataset['enc_street']=pd.get_dummies(test_dataset.Street,drop_first=True)\n",
        "print('Encoded:\\n')\n",
        "print(training_dataset.enc_street.value_counts())\n",
        "\n",
        "\n",
        "\n"
      ],
      "metadata": {
        "id": "olJBgMyJiwfF"
      },
      "execution_count": null,
      "outputs": []
    },
    {
      "cell_type": "code",
      "source": [
        "data= training_dataset.select_dtypes(include=[np.number]).interpolate().dropna()\n",
        "\n",
        "sum(data.isnull().sum()!=0)\n"
      ],
      "metadata": {
        "execution": {
          "iopub.status.busy": "2022-06-20T14:01:59.673410Z",
          "iopub.execute_input": "2022-06-20T14:01:59.673822Z",
          "iopub.status.idle": "2022-06-20T14:01:59.689596Z",
          "shell.execute_reply.started": "2022-06-20T14:01:59.673792Z",
          "shell.execute_reply": "2022-06-20T14:01:59.688680Z"
        },
        "trusted": true,
        "id": "dclO1oXkfguG"
      },
      "execution_count": null,
      "outputs": []
    },
    {
      "cell_type": "code",
      "source": [
        "y=np.log(training_dataset.SalePrice)\n",
        "X=data.drop(['SalePrice', 'Id'],axis=1)\n",
        "\n"
      ],
      "metadata": {
        "execution": {
          "iopub.status.busy": "2022-06-20T14:05:37.923432Z",
          "iopub.execute_input": "2022-06-20T14:05:37.924095Z",
          "iopub.status.idle": "2022-06-20T14:05:37.931797Z",
          "shell.execute_reply.started": "2022-06-20T14:05:37.924051Z",
          "shell.execute_reply": "2022-06-20T14:05:37.931046Z"
        },
        "trusted": true,
        "id": "Y8ijYsqYfguH"
      },
      "execution_count": null,
      "outputs": []
    },
    {
      "cell_type": "code",
      "source": [
        "X_train, X_test, y_train, y_test = train_test_split(X, y, train_size=0.8, random_state=44, shuffle =True)"
      ],
      "metadata": {
        "execution": {
          "iopub.status.busy": "2022-06-20T14:07:45.107108Z",
          "iopub.execute_input": "2022-06-20T14:07:45.107585Z",
          "iopub.status.idle": "2022-06-20T14:07:45.115794Z",
          "shell.execute_reply.started": "2022-06-20T14:07:45.107548Z",
          "shell.execute_reply": "2022-06-20T14:07:45.114809Z"
        },
        "trusted": true,
        "id": "CpLCgX6ifguH"
      },
      "execution_count": null,
      "outputs": []
    },
    {
      "cell_type": "code",
      "source": [
        "from sklearn.linear_model import LinearRegression\n",
        "\n",
        "LinearRegressionModel = LinearRegression()\n",
        "LinearRegressionModel.fit(X_train, y_train)\n",
        "print('Linear Regression Train Score is : ' , LinearRegressionModel.score(X_train, y_train))\n",
        "print('Linear Regression Test Score is : ' , LinearRegressionModel.score(X_test, y_test))\n",
        "print('Linear Regression Coef is : ' , LinearRegressionModel.coef_)\n",
        "print('Linear Regression intercept is : ' , LinearRegressionModel.intercept_)"
      ],
      "metadata": {
        "execution": {
          "iopub.status.busy": "2022-06-20T14:09:20.589310Z",
          "iopub.execute_input": "2022-06-20T14:09:20.589700Z",
          "iopub.status.idle": "2022-06-20T14:09:20.621437Z",
          "shell.execute_reply.started": "2022-06-20T14:09:20.589670Z",
          "shell.execute_reply": "2022-06-20T14:09:20.620304Z"
        },
        "trusted": true,
        "id": "xvNQ6OxAfguI"
      },
      "execution_count": null,
      "outputs": []
    },
    {
      "cell_type": "code",
      "source": [
        "y_pred_linear = LinearRegressionModel.predict(X_test)\n",
        "print('Y predict: ',y_pred_linear[:5])\n",
        "print('Y test: ', y_test[:5])"
      ],
      "metadata": {
        "execution": {
          "iopub.status.busy": "2022-06-20T14:10:37.371762Z",
          "iopub.execute_input": "2022-06-20T14:10:37.372125Z",
          "iopub.status.idle": "2022-06-20T14:10:37.386282Z",
          "shell.execute_reply.started": "2022-06-20T14:10:37.372097Z",
          "shell.execute_reply": "2022-06-20T14:10:37.384921Z"
        },
        "trusted": true,
        "id": "FLm1_rPLfguI"
      },
      "execution_count": null,
      "outputs": []
    },
    {
      "cell_type": "code",
      "source": [
        "from sklearn.metrics import mean_squared_error\n",
        "//print('root square error is',LinearRegressionModel.score(X_test, y_test))\n",
        "predictions=LinearRegressionModel.predict(X_test)\n",
        "\n",
        "print('RMSE', mean_squared_error(y_test, predictions))\n",
        "\n",
        "\n"
      ],
      "metadata": {
        "execution": {
          "iopub.status.busy": "2022-06-20T14:21:50.926737Z",
          "iopub.execute_input": "2022-06-20T14:21:50.927177Z",
          "iopub.status.idle": "2022-06-20T14:21:50.953209Z",
          "shell.execute_reply.started": "2022-06-20T14:21:50.927145Z",
          "shell.execute_reply": "2022-06-20T14:21:50.951846Z"
        },
        "trusted": true,
        "id": "xhlh9pqNfguJ"
      },
      "execution_count": null,
      "outputs": []
    },
    {
      "cell_type": "code",
      "source": [
        "actual_values=y_test\n",
        "plt.scatter(predictions, actual_values,alpha=.7, color='b')\n",
        "plt.xlabel('Predicted Price')\n",
        "plt.ylabel('Actual Price')\n",
        "plt.title('Linear Regression Model')\n",
        "\n",
        "plt.show()\n",
        "\n",
        "\n",
        "\n"
      ],
      "metadata": {
        "execution": {
          "iopub.status.busy": "2022-06-20T14:26:26.828969Z",
          "iopub.execute_input": "2022-06-20T14:26:26.829849Z",
          "iopub.status.idle": "2022-06-20T14:26:27.034708Z",
          "shell.execute_reply.started": "2022-06-20T14:26:26.829812Z",
          "shell.execute_reply": "2022-06-20T14:26:27.033440Z"
        },
        "trusted": true,
        "id": "J20ZLlsYfguJ"
      },
      "execution_count": null,
      "outputs": []
    }
  ]
}