{
  "metadata": {
    "kernelspec": {
      "language": "python",
      "display_name": "Python 3",
      "name": "python3"
    },
    "language_info": {
      "pygments_lexer": "ipython3",
      "nbconvert_exporter": "python",
      "version": "3.6.4",
      "file_extension": ".py",
      "codemirror_mode": {
        "name": "ipython",
        "version": 3
      },
      "name": "python",
      "mimetype": "text/x-python"
    },
    "colab": {
      "name": "dogecoin-price-prediction-vanila-lstm.ipynb",
      "provenance": []
    }
  },
  "nbformat_minor": 0,
  "nbformat": 4,
  "cells": [
    {
      "cell_type": "code",
      "source": [
        "import numpy as np\n",
        "import pandas as pd\n",
        "import matplotlib.pyplot as plt\n",
        "import seaborn as sns\n",
        "from sklearn.preprocessing import MinMaxScaler\n",
        "from tensorflow.keras.models import Sequential\n",
        "from tensorflow.keras.layers import Dense\n",
        "from tensorflow.keras.layers import LSTM\n",
        "from tensorflow.keras.layers import Dropout\n",
        "from tensorflow.keras.layers import Activation\n",
        "from sklearn.metrics import mean_squared_error, mean_absolute_error"
      ],
      "metadata": {
        "execution": {
          "iopub.status.busy": "2021-10-15T20:38:19.415159Z",
          "iopub.execute_input": "2021-10-15T20:38:19.415566Z",
          "iopub.status.idle": "2021-10-15T20:38:19.424223Z",
          "shell.execute_reply.started": "2021-10-15T20:38:19.415531Z",
          "shell.execute_reply": "2021-10-15T20:38:19.423017Z"
        },
        "trusted": true,
        "id": "E7Nv14TaT7Is"
      },
      "execution_count": 1,
      "outputs": []
    },
    {
      "cell_type": "code",
      "source": [
        "dogecoin = pd.read_csv('/content/DOGE-USD.csv')\n",
        "dogecoin.head()"
      ],
      "metadata": {
        "execution": {
          "iopub.status.busy": "2021-10-15T20:38:19.446899Z",
          "iopub.execute_input": "2021-10-15T20:38:19.447288Z",
          "iopub.status.idle": "2021-10-15T20:38:19.478649Z",
          "shell.execute_reply.started": "2021-10-15T20:38:19.447252Z",
          "shell.execute_reply": "2021-10-15T20:38:19.478032Z"
        },
        "trusted": true,
        "colab": {
          "base_uri": "https://localhost:8080/",
          "height": 204
        },
        "id": "aO5pKUaYT7Iu",
        "outputId": "21f6c573-b1ba-4d5e-8e05-e797331336d5"
      },
      "execution_count": 2,
      "outputs": [
        {
          "output_type": "execute_result",
          "data": {
            "text/plain": [
              "         Date      Open      High       Low     Close   Volume\n",
              "0  2017-11-09  0.001207  0.001415  0.001181  0.001415  6259550\n",
              "1  2017-11-10  0.001421  0.001431  0.001125  0.001163  4246520\n",
              "2  2017-11-11  0.001146  0.001257  0.001141  0.001201  2231080\n",
              "3  2017-11-12  0.001189  0.001210  0.001002  0.001038  3288960\n",
              "4  2017-11-13  0.001046  0.001212  0.001019  0.001211  2481270"
            ],
            "text/html": [
              "\n",
              "  <div id=\"df-730856ff-b487-415a-8577-0f08ab4945a7\">\n",
              "    <div class=\"colab-df-container\">\n",
              "      <div>\n",
              "<style scoped>\n",
              "    .dataframe tbody tr th:only-of-type {\n",
              "        vertical-align: middle;\n",
              "    }\n",
              "\n",
              "    .dataframe tbody tr th {\n",
              "        vertical-align: top;\n",
              "    }\n",
              "\n",
              "    .dataframe thead th {\n",
              "        text-align: right;\n",
              "    }\n",
              "</style>\n",
              "<table border=\"1\" class=\"dataframe\">\n",
              "  <thead>\n",
              "    <tr style=\"text-align: right;\">\n",
              "      <th></th>\n",
              "      <th>Date</th>\n",
              "      <th>Open</th>\n",
              "      <th>High</th>\n",
              "      <th>Low</th>\n",
              "      <th>Close</th>\n",
              "      <th>Volume</th>\n",
              "    </tr>\n",
              "  </thead>\n",
              "  <tbody>\n",
              "    <tr>\n",
              "      <th>0</th>\n",
              "      <td>2017-11-09</td>\n",
              "      <td>0.001207</td>\n",
              "      <td>0.001415</td>\n",
              "      <td>0.001181</td>\n",
              "      <td>0.001415</td>\n",
              "      <td>6259550</td>\n",
              "    </tr>\n",
              "    <tr>\n",
              "      <th>1</th>\n",
              "      <td>2017-11-10</td>\n",
              "      <td>0.001421</td>\n",
              "      <td>0.001431</td>\n",
              "      <td>0.001125</td>\n",
              "      <td>0.001163</td>\n",
              "      <td>4246520</td>\n",
              "    </tr>\n",
              "    <tr>\n",
              "      <th>2</th>\n",
              "      <td>2017-11-11</td>\n",
              "      <td>0.001146</td>\n",
              "      <td>0.001257</td>\n",
              "      <td>0.001141</td>\n",
              "      <td>0.001201</td>\n",
              "      <td>2231080</td>\n",
              "    </tr>\n",
              "    <tr>\n",
              "      <th>3</th>\n",
              "      <td>2017-11-12</td>\n",
              "      <td>0.001189</td>\n",
              "      <td>0.001210</td>\n",
              "      <td>0.001002</td>\n",
              "      <td>0.001038</td>\n",
              "      <td>3288960</td>\n",
              "    </tr>\n",
              "    <tr>\n",
              "      <th>4</th>\n",
              "      <td>2017-11-13</td>\n",
              "      <td>0.001046</td>\n",
              "      <td>0.001212</td>\n",
              "      <td>0.001019</td>\n",
              "      <td>0.001211</td>\n",
              "      <td>2481270</td>\n",
              "    </tr>\n",
              "  </tbody>\n",
              "</table>\n",
              "</div>\n",
              "      <button class=\"colab-df-convert\" onclick=\"convertToInteractive('df-730856ff-b487-415a-8577-0f08ab4945a7')\"\n",
              "              title=\"Convert this dataframe to an interactive table.\"\n",
              "              style=\"display:none;\">\n",
              "        \n",
              "  <svg xmlns=\"http://www.w3.org/2000/svg\" height=\"24px\"viewBox=\"0 0 24 24\"\n",
              "       width=\"24px\">\n",
              "    <path d=\"M0 0h24v24H0V0z\" fill=\"none\"/>\n",
              "    <path d=\"M18.56 5.44l.94 2.06.94-2.06 2.06-.94-2.06-.94-.94-2.06-.94 2.06-2.06.94zm-11 1L8.5 8.5l.94-2.06 2.06-.94-2.06-.94L8.5 2.5l-.94 2.06-2.06.94zm10 10l.94 2.06.94-2.06 2.06-.94-2.06-.94-.94-2.06-.94 2.06-2.06.94z\"/><path d=\"M17.41 7.96l-1.37-1.37c-.4-.4-.92-.59-1.43-.59-.52 0-1.04.2-1.43.59L10.3 9.45l-7.72 7.72c-.78.78-.78 2.05 0 2.83L4 21.41c.39.39.9.59 1.41.59.51 0 1.02-.2 1.41-.59l7.78-7.78 2.81-2.81c.8-.78.8-2.07 0-2.86zM5.41 20L4 18.59l7.72-7.72 1.47 1.35L5.41 20z\"/>\n",
              "  </svg>\n",
              "      </button>\n",
              "      \n",
              "  <style>\n",
              "    .colab-df-container {\n",
              "      display:flex;\n",
              "      flex-wrap:wrap;\n",
              "      gap: 12px;\n",
              "    }\n",
              "\n",
              "    .colab-df-convert {\n",
              "      background-color: #E8F0FE;\n",
              "      border: none;\n",
              "      border-radius: 50%;\n",
              "      cursor: pointer;\n",
              "      display: none;\n",
              "      fill: #1967D2;\n",
              "      height: 32px;\n",
              "      padding: 0 0 0 0;\n",
              "      width: 32px;\n",
              "    }\n",
              "\n",
              "    .colab-df-convert:hover {\n",
              "      background-color: #E2EBFA;\n",
              "      box-shadow: 0px 1px 2px rgba(60, 64, 67, 0.3), 0px 1px 3px 1px rgba(60, 64, 67, 0.15);\n",
              "      fill: #174EA6;\n",
              "    }\n",
              "\n",
              "    [theme=dark] .colab-df-convert {\n",
              "      background-color: #3B4455;\n",
              "      fill: #D2E3FC;\n",
              "    }\n",
              "\n",
              "    [theme=dark] .colab-df-convert:hover {\n",
              "      background-color: #434B5C;\n",
              "      box-shadow: 0px 1px 3px 1px rgba(0, 0, 0, 0.15);\n",
              "      filter: drop-shadow(0px 1px 2px rgba(0, 0, 0, 0.3));\n",
              "      fill: #FFFFFF;\n",
              "    }\n",
              "  </style>\n",
              "\n",
              "      <script>\n",
              "        const buttonEl =\n",
              "          document.querySelector('#df-730856ff-b487-415a-8577-0f08ab4945a7 button.colab-df-convert');\n",
              "        buttonEl.style.display =\n",
              "          google.colab.kernel.accessAllowed ? 'block' : 'none';\n",
              "\n",
              "        async function convertToInteractive(key) {\n",
              "          const element = document.querySelector('#df-730856ff-b487-415a-8577-0f08ab4945a7');\n",
              "          const dataTable =\n",
              "            await google.colab.kernel.invokeFunction('convertToInteractive',\n",
              "                                                     [key], {});\n",
              "          if (!dataTable) return;\n",
              "\n",
              "          const docLinkHtml = 'Like what you see? Visit the ' +\n",
              "            '<a target=\"_blank\" href=https://colab.research.google.com/notebooks/data_table.ipynb>data table notebook</a>'\n",
              "            + ' to learn more about interactive tables.';\n",
              "          element.innerHTML = '';\n",
              "          dataTable['output_type'] = 'display_data';\n",
              "          await google.colab.output.renderOutput(dataTable, element);\n",
              "          const docLink = document.createElement('div');\n",
              "          docLink.innerHTML = docLinkHtml;\n",
              "          element.appendChild(docLink);\n",
              "        }\n",
              "      </script>\n",
              "    </div>\n",
              "  </div>\n",
              "  "
            ]
          },
          "metadata": {},
          "execution_count": 2
        }
      ]
    },
    {
      "cell_type": "code",
      "source": [
        "dogecoin.info()"
      ],
      "metadata": {
        "execution": {
          "iopub.status.busy": "2021-10-15T20:38:19.480256Z",
          "iopub.execute_input": "2021-10-15T20:38:19.480593Z",
          "iopub.status.idle": "2021-10-15T20:38:19.496364Z",
          "shell.execute_reply.started": "2021-10-15T20:38:19.480557Z",
          "shell.execute_reply": "2021-10-15T20:38:19.495342Z"
        },
        "trusted": true,
        "colab": {
          "base_uri": "https://localhost:8080/"
        },
        "id": "Ell3tJf5T7Iv",
        "outputId": "299d933f-e9ed-4581-af6b-b902728067b1"
      },
      "execution_count": 3,
      "outputs": [
        {
          "output_type": "stream",
          "name": "stdout",
          "text": [
            "<class 'pandas.core.frame.DataFrame'>\n",
            "RangeIndex: 1532 entries, 0 to 1531\n",
            "Data columns (total 6 columns):\n",
            " #   Column  Non-Null Count  Dtype  \n",
            "---  ------  --------------  -----  \n",
            " 0   Date    1532 non-null   object \n",
            " 1   Open    1532 non-null   float64\n",
            " 2   High    1532 non-null   float64\n",
            " 3   Low     1532 non-null   float64\n",
            " 4   Close   1532 non-null   float64\n",
            " 5   Volume  1532 non-null   int64  \n",
            "dtypes: float64(4), int64(1), object(1)\n",
            "memory usage: 71.9+ KB\n"
          ]
        }
      ]
    },
    {
      "cell_type": "code",
      "source": [
        "dogecoin[dogecoin.isnull().any(axis=1)]"
      ],
      "metadata": {
        "execution": {
          "iopub.status.busy": "2021-10-15T20:38:19.498445Z",
          "iopub.execute_input": "2021-10-15T20:38:19.498808Z",
          "iopub.status.idle": "2021-10-15T20:38:19.520704Z",
          "shell.execute_reply.started": "2021-10-15T20:38:19.498763Z",
          "shell.execute_reply": "2021-10-15T20:38:19.51983Z"
        },
        "trusted": true,
        "colab": {
          "base_uri": "https://localhost:8080/",
          "height": 49
        },
        "id": "md5Zr-tyT7Iv",
        "outputId": "50528222-418e-4092-b780-093f9508d46c"
      },
      "execution_count": 4,
      "outputs": [
        {
          "output_type": "execute_result",
          "data": {
            "text/plain": [
              "Empty DataFrame\n",
              "Columns: [Date, Open, High, Low, Close, Volume]\n",
              "Index: []"
            ],
            "text/html": [
              "\n",
              "  <div id=\"df-5aa20132-8f92-4617-9452-09076bdcc835\">\n",
              "    <div class=\"colab-df-container\">\n",
              "      <div>\n",
              "<style scoped>\n",
              "    .dataframe tbody tr th:only-of-type {\n",
              "        vertical-align: middle;\n",
              "    }\n",
              "\n",
              "    .dataframe tbody tr th {\n",
              "        vertical-align: top;\n",
              "    }\n",
              "\n",
              "    .dataframe thead th {\n",
              "        text-align: right;\n",
              "    }\n",
              "</style>\n",
              "<table border=\"1\" class=\"dataframe\">\n",
              "  <thead>\n",
              "    <tr style=\"text-align: right;\">\n",
              "      <th></th>\n",
              "      <th>Date</th>\n",
              "      <th>Open</th>\n",
              "      <th>High</th>\n",
              "      <th>Low</th>\n",
              "      <th>Close</th>\n",
              "      <th>Volume</th>\n",
              "    </tr>\n",
              "  </thead>\n",
              "  <tbody>\n",
              "  </tbody>\n",
              "</table>\n",
              "</div>\n",
              "      <button class=\"colab-df-convert\" onclick=\"convertToInteractive('df-5aa20132-8f92-4617-9452-09076bdcc835')\"\n",
              "              title=\"Convert this dataframe to an interactive table.\"\n",
              "              style=\"display:none;\">\n",
              "        \n",
              "  <svg xmlns=\"http://www.w3.org/2000/svg\" height=\"24px\"viewBox=\"0 0 24 24\"\n",
              "       width=\"24px\">\n",
              "    <path d=\"M0 0h24v24H0V0z\" fill=\"none\"/>\n",
              "    <path d=\"M18.56 5.44l.94 2.06.94-2.06 2.06-.94-2.06-.94-.94-2.06-.94 2.06-2.06.94zm-11 1L8.5 8.5l.94-2.06 2.06-.94-2.06-.94L8.5 2.5l-.94 2.06-2.06.94zm10 10l.94 2.06.94-2.06 2.06-.94-2.06-.94-.94-2.06-.94 2.06-2.06.94z\"/><path d=\"M17.41 7.96l-1.37-1.37c-.4-.4-.92-.59-1.43-.59-.52 0-1.04.2-1.43.59L10.3 9.45l-7.72 7.72c-.78.78-.78 2.05 0 2.83L4 21.41c.39.39.9.59 1.41.59.51 0 1.02-.2 1.41-.59l7.78-7.78 2.81-2.81c.8-.78.8-2.07 0-2.86zM5.41 20L4 18.59l7.72-7.72 1.47 1.35L5.41 20z\"/>\n",
              "  </svg>\n",
              "      </button>\n",
              "      \n",
              "  <style>\n",
              "    .colab-df-container {\n",
              "      display:flex;\n",
              "      flex-wrap:wrap;\n",
              "      gap: 12px;\n",
              "    }\n",
              "\n",
              "    .colab-df-convert {\n",
              "      background-color: #E8F0FE;\n",
              "      border: none;\n",
              "      border-radius: 50%;\n",
              "      cursor: pointer;\n",
              "      display: none;\n",
              "      fill: #1967D2;\n",
              "      height: 32px;\n",
              "      padding: 0 0 0 0;\n",
              "      width: 32px;\n",
              "    }\n",
              "\n",
              "    .colab-df-convert:hover {\n",
              "      background-color: #E2EBFA;\n",
              "      box-shadow: 0px 1px 2px rgba(60, 64, 67, 0.3), 0px 1px 3px 1px rgba(60, 64, 67, 0.15);\n",
              "      fill: #174EA6;\n",
              "    }\n",
              "\n",
              "    [theme=dark] .colab-df-convert {\n",
              "      background-color: #3B4455;\n",
              "      fill: #D2E3FC;\n",
              "    }\n",
              "\n",
              "    [theme=dark] .colab-df-convert:hover {\n",
              "      background-color: #434B5C;\n",
              "      box-shadow: 0px 1px 3px 1px rgba(0, 0, 0, 0.15);\n",
              "      filter: drop-shadow(0px 1px 2px rgba(0, 0, 0, 0.3));\n",
              "      fill: #FFFFFF;\n",
              "    }\n",
              "  </style>\n",
              "\n",
              "      <script>\n",
              "        const buttonEl =\n",
              "          document.querySelector('#df-5aa20132-8f92-4617-9452-09076bdcc835 button.colab-df-convert');\n",
              "        buttonEl.style.display =\n",
              "          google.colab.kernel.accessAllowed ? 'block' : 'none';\n",
              "\n",
              "        async function convertToInteractive(key) {\n",
              "          const element = document.querySelector('#df-5aa20132-8f92-4617-9452-09076bdcc835');\n",
              "          const dataTable =\n",
              "            await google.colab.kernel.invokeFunction('convertToInteractive',\n",
              "                                                     [key], {});\n",
              "          if (!dataTable) return;\n",
              "\n",
              "          const docLinkHtml = 'Like what you see? Visit the ' +\n",
              "            '<a target=\"_blank\" href=https://colab.research.google.com/notebooks/data_table.ipynb>data table notebook</a>'\n",
              "            + ' to learn more about interactive tables.';\n",
              "          element.innerHTML = '';\n",
              "          dataTable['output_type'] = 'display_data';\n",
              "          await google.colab.output.renderOutput(dataTable, element);\n",
              "          const docLink = document.createElement('div');\n",
              "          docLink.innerHTML = docLinkHtml;\n",
              "          element.appendChild(docLink);\n",
              "        }\n",
              "      </script>\n",
              "    </div>\n",
              "  </div>\n",
              "  "
            ]
          },
          "metadata": {},
          "execution_count": 4
        }
      ]
    },
    {
      "cell_type": "code",
      "source": [
        "dogecoin = dogecoin.dropna()\n",
        "dogecoin.info()"
      ],
      "metadata": {
        "execution": {
          "iopub.status.busy": "2021-10-15T20:38:19.523532Z",
          "iopub.execute_input": "2021-10-15T20:38:19.524017Z",
          "iopub.status.idle": "2021-10-15T20:38:19.541777Z",
          "shell.execute_reply.started": "2021-10-15T20:38:19.523969Z",
          "shell.execute_reply": "2021-10-15T20:38:19.541065Z"
        },
        "trusted": true,
        "colab": {
          "base_uri": "https://localhost:8080/"
        },
        "id": "WP0PzaFqT7Iw",
        "outputId": "24cdb883-395f-4434-82e1-7d8e4208f0bb"
      },
      "execution_count": 5,
      "outputs": [
        {
          "output_type": "stream",
          "name": "stdout",
          "text": [
            "<class 'pandas.core.frame.DataFrame'>\n",
            "Int64Index: 1532 entries, 0 to 1531\n",
            "Data columns (total 6 columns):\n",
            " #   Column  Non-Null Count  Dtype  \n",
            "---  ------  --------------  -----  \n",
            " 0   Date    1532 non-null   object \n",
            " 1   Open    1532 non-null   float64\n",
            " 2   High    1532 non-null   float64\n",
            " 3   Low     1532 non-null   float64\n",
            " 4   Close   1532 non-null   float64\n",
            " 5   Volume  1532 non-null   int64  \n",
            "dtypes: float64(4), int64(1), object(1)\n",
            "memory usage: 83.8+ KB\n"
          ]
        }
      ]
    },
    {
      "cell_type": "markdown",
      "source": [
        "### Univariate Analysis"
      ],
      "metadata": {
        "id": "Q_0G8eVbT7Iw"
      }
    },
    {
      "cell_type": "code",
      "source": [
        "# We'll take only one variable into consideration to Predict the Price of the DOGECOIN\n",
        "close = dogecoin.Close.iloc[:].to_numpy()\n",
        "close"
      ],
      "metadata": {
        "execution": {
          "iopub.status.busy": "2021-10-15T20:38:19.543328Z",
          "iopub.execute_input": "2021-10-15T20:38:19.543632Z",
          "iopub.status.idle": "2021-10-15T20:38:19.553673Z",
          "shell.execute_reply.started": "2021-10-15T20:38:19.543594Z",
          "shell.execute_reply": "2021-10-15T20:38:19.552637Z"
        },
        "trusted": true,
        "colab": {
          "base_uri": "https://localhost:8080/"
        },
        "id": "21e6tb9mT7Ix",
        "outputId": "10fd4af0-304f-430d-9f70-0641766c1e38"
      },
      "execution_count": 6,
      "outputs": [
        {
          "output_type": "execute_result",
          "data": {
            "text/plain": [
              "array([0.001415, 0.001163, 0.001201, ..., 0.177176, 0.171145, 0.166144])"
            ]
          },
          "metadata": {},
          "execution_count": 6
        }
      ]
    },
    {
      "cell_type": "code",
      "source": [
        "scaler = MinMaxScaler(feature_range=(0,1))\n",
        "closeScaled = scaler.fit_transform(np.array(close).reshape(-1,1))\n",
        "closeScaled"
      ],
      "metadata": {
        "execution": {
          "iopub.status.busy": "2021-10-15T20:38:19.555833Z",
          "iopub.execute_input": "2021-10-15T20:38:19.556382Z",
          "iopub.status.idle": "2021-10-15T20:38:19.564425Z",
          "shell.execute_reply.started": "2021-10-15T20:38:19.556345Z",
          "shell.execute_reply": "2021-10-15T20:38:19.56374Z"
        },
        "trusted": true,
        "colab": {
          "base_uri": "https://localhost:8080/"
        },
        "id": "REG2xr_9T7Iy",
        "outputId": "f695213a-7f9b-452a-cd57-f93a9e43026b"
      },
      "execution_count": 7,
      "outputs": [
        {
          "output_type": "execute_result",
          "data": {
            "text/plain": [
              "array([[5.51379986e-04],\n",
              "       [1.82818298e-04],\n",
              "       [2.38395060e-04],\n",
              "       ...,\n",
              "       [2.57609994e-01],\n",
              "       [2.48789377e-01],\n",
              "       [2.41475183e-01]])"
            ]
          },
          "metadata": {},
          "execution_count": 7
        }
      ]
    },
    {
      "cell_type": "code",
      "source": [
        "# Let's split the data into test and train\n",
        "closeLength = len(closeScaled)\n",
        "train, test = closeScaled[:(closeLength-150)], closeScaled[(closeLength-150):]\n",
        "len(train), len(test)"
      ],
      "metadata": {
        "execution": {
          "iopub.status.busy": "2021-10-15T20:38:19.565863Z",
          "iopub.execute_input": "2021-10-15T20:38:19.566157Z",
          "iopub.status.idle": "2021-10-15T20:38:19.580009Z",
          "shell.execute_reply.started": "2021-10-15T20:38:19.566128Z",
          "shell.execute_reply": "2021-10-15T20:38:19.579002Z"
        },
        "trusted": true,
        "colab": {
          "base_uri": "https://localhost:8080/"
        },
        "id": "NSXK1-wET7Iy",
        "outputId": "4fa7f48a-d3b5-43bb-ab6b-699f2bd34b32"
      },
      "execution_count": 8,
      "outputs": [
        {
          "output_type": "execute_result",
          "data": {
            "text/plain": [
              "(1382, 150)"
            ]
          },
          "metadata": {},
          "execution_count": 8
        }
      ]
    },
    {
      "cell_type": "code",
      "source": [
        "from tensorflow.keras.preprocessing.sequence import TimeseriesGenerator\n",
        "\n",
        "# define generator\n",
        "inputs = 15\n",
        "features = 1 ## Univariate means only 1 independent variable\n",
        "generator = TimeseriesGenerator(train, train, length=inputs, batch_size=1)"
      ],
      "metadata": {
        "execution": {
          "iopub.status.busy": "2021-10-15T20:38:19.581712Z",
          "iopub.execute_input": "2021-10-15T20:38:19.581958Z",
          "iopub.status.idle": "2021-10-15T20:38:19.5903Z",
          "shell.execute_reply.started": "2021-10-15T20:38:19.581929Z",
          "shell.execute_reply": "2021-10-15T20:38:19.589466Z"
        },
        "trusted": true,
        "id": "g-wNWLeGT7Iy"
      },
      "execution_count": 9,
      "outputs": []
    },
    {
      "cell_type": "code",
      "source": [
        "# define model\n",
        "model = Sequential()\n",
        "model.add(LSTM(150, activation='relu', input_shape=(inputs, features)))\n",
        "model.add(Dense(1))\n",
        "model.compile(optimizer='adam', loss='mse')"
      ],
      "metadata": {
        "execution": {
          "iopub.status.busy": "2021-10-15T20:38:19.591836Z",
          "iopub.execute_input": "2021-10-15T20:38:19.592665Z",
          "iopub.status.idle": "2021-10-15T20:38:20.402823Z",
          "shell.execute_reply.started": "2021-10-15T20:38:19.592624Z",
          "shell.execute_reply": "2021-10-15T20:38:20.401624Z"
        },
        "trusted": true,
        "id": "Vle3cN-zT7Iz"
      },
      "execution_count": 10,
      "outputs": []
    },
    {
      "cell_type": "code",
      "source": [
        "model.summary()"
      ],
      "metadata": {
        "execution": {
          "iopub.status.busy": "2021-10-15T20:38:20.405927Z",
          "iopub.execute_input": "2021-10-15T20:38:20.406565Z",
          "iopub.status.idle": "2021-10-15T20:38:20.414544Z",
          "shell.execute_reply.started": "2021-10-15T20:38:20.406513Z",
          "shell.execute_reply": "2021-10-15T20:38:20.412823Z"
        },
        "trusted": true,
        "colab": {
          "base_uri": "https://localhost:8080/"
        },
        "id": "HC_1DlS7T7Iz",
        "outputId": "164415ca-c943-4def-dec8-8e6ebe3c351e"
      },
      "execution_count": 11,
      "outputs": [
        {
          "output_type": "stream",
          "name": "stdout",
          "text": [
            "Model: \"sequential\"\n",
            "_________________________________________________________________\n",
            " Layer (type)                Output Shape              Param #   \n",
            "=================================================================\n",
            " lstm (LSTM)                 (None, 150)               91200     \n",
            "                                                                 \n",
            " dense (Dense)               (None, 1)                 151       \n",
            "                                                                 \n",
            "=================================================================\n",
            "Total params: 91,351\n",
            "Trainable params: 91,351\n",
            "Non-trainable params: 0\n",
            "_________________________________________________________________\n"
          ]
        }
      ]
    },
    {
      "cell_type": "code",
      "source": [
        "model.fit(generator, epochs=100)"
      ],
      "metadata": {
        "_kg_hide-output": true,
        "execution": {
          "iopub.status.busy": "2021-10-15T20:38:20.416109Z",
          "iopub.execute_input": "2021-10-15T20:38:20.41644Z",
          "iopub.status.idle": "2021-10-15T21:05:10.131103Z",
          "shell.execute_reply.started": "2021-10-15T20:38:20.416395Z",
          "shell.execute_reply": "2021-10-15T21:05:10.130245Z"
        },
        "trusted": true,
        "colab": {
          "base_uri": "https://localhost:8080/"
        },
        "id": "_kNPImVeT7I0",
        "outputId": "ed9cfc2b-ec03-4ce9-832b-4195d8ca5231"
      },
      "execution_count": 12,
      "outputs": [
        {
          "output_type": "stream",
          "name": "stdout",
          "text": [
            "Epoch 1/100\n",
            "1367/1367 [==============================] - 16s 10ms/step - loss: 0.0028\n",
            "Epoch 2/100\n",
            "1367/1367 [==============================] - 14s 11ms/step - loss: 0.0011\n",
            "Epoch 3/100\n",
            "1367/1367 [==============================] - 16s 11ms/step - loss: 0.0010\n",
            "Epoch 4/100\n",
            "1367/1367 [==============================] - 14s 10ms/step - loss: 0.0010\n",
            "Epoch 5/100\n",
            "1367/1367 [==============================] - 14s 10ms/step - loss: 7.3270e-04\n",
            "Epoch 6/100\n",
            "1367/1367 [==============================] - 15s 11ms/step - loss: 6.4945e-04\n",
            "Epoch 7/100\n",
            "1367/1367 [==============================] - 14s 11ms/step - loss: 5.6471e-04\n",
            "Epoch 8/100\n",
            "1367/1367 [==============================] - 14s 10ms/step - loss: 5.6508e-04\n",
            "Epoch 9/100\n",
            "1367/1367 [==============================] - 14s 10ms/step - loss: 5.3058e-04\n",
            "Epoch 10/100\n",
            "1367/1367 [==============================] - 15s 11ms/step - loss: 4.9069e-04\n",
            "Epoch 11/100\n",
            "1367/1367 [==============================] - 14s 10ms/step - loss: 5.1115e-04\n",
            "Epoch 12/100\n",
            "1367/1367 [==============================] - 15s 11ms/step - loss: 4.8020e-04\n",
            "Epoch 13/100\n",
            "1367/1367 [==============================] - 14s 10ms/step - loss: 5.1525e-04\n",
            "Epoch 14/100\n",
            "1367/1367 [==============================] - 14s 10ms/step - loss: 4.8354e-04\n",
            "Epoch 15/100\n",
            "1367/1367 [==============================] - 14s 10ms/step - loss: 4.8536e-04\n",
            "Epoch 16/100\n",
            "1367/1367 [==============================] - 14s 11ms/step - loss: 5.0402e-04\n",
            "Epoch 17/100\n",
            "1367/1367 [==============================] - 15s 11ms/step - loss: 4.6306e-04\n",
            "Epoch 18/100\n",
            "1367/1367 [==============================] - 15s 11ms/step - loss: 4.4141e-04\n",
            "Epoch 19/100\n",
            "1367/1367 [==============================] - 15s 11ms/step - loss: 4.5586e-04\n",
            "Epoch 20/100\n",
            "1367/1367 [==============================] - 14s 10ms/step - loss: 4.4111e-04\n",
            "Epoch 21/100\n",
            "1367/1367 [==============================] - 14s 10ms/step - loss: 4.1303e-04\n",
            "Epoch 22/100\n",
            "1367/1367 [==============================] - 14s 10ms/step - loss: 4.5640e-04\n",
            "Epoch 23/100\n",
            "1367/1367 [==============================] - 14s 10ms/step - loss: 4.6100e-04\n",
            "Epoch 24/100\n",
            "1367/1367 [==============================] - 14s 10ms/step - loss: 4.2181e-04\n",
            "Epoch 25/100\n",
            "1367/1367 [==============================] - 14s 10ms/step - loss: 4.6410e-04\n",
            "Epoch 26/100\n",
            "1367/1367 [==============================] - 16s 11ms/step - loss: 4.3397e-04\n",
            "Epoch 27/100\n",
            "1367/1367 [==============================] - 14s 10ms/step - loss: 4.0593e-04\n",
            "Epoch 28/100\n",
            "1367/1367 [==============================] - 14s 10ms/step - loss: 4.5024e-04\n",
            "Epoch 29/100\n",
            "1367/1367 [==============================] - 14s 10ms/step - loss: 4.4816e-04\n",
            "Epoch 30/100\n",
            "1367/1367 [==============================] - 14s 10ms/step - loss: 3.9247e-04\n",
            "Epoch 31/100\n",
            "1367/1367 [==============================] - 14s 10ms/step - loss: 4.1546e-04\n",
            "Epoch 32/100\n",
            "1367/1367 [==============================] - 15s 11ms/step - loss: 4.1673e-04\n",
            "Epoch 33/100\n",
            "1367/1367 [==============================] - 14s 10ms/step - loss: 4.4800e-04\n",
            "Epoch 34/100\n",
            "1367/1367 [==============================] - 14s 10ms/step - loss: 4.3290e-04\n",
            "Epoch 35/100\n",
            "1367/1367 [==============================] - 14s 10ms/step - loss: 4.0019e-04\n",
            "Epoch 36/100\n",
            "1367/1367 [==============================] - 17s 13ms/step - loss: 4.4164e-04\n",
            "Epoch 37/100\n",
            "1367/1367 [==============================] - 15s 11ms/step - loss: 3.9549e-04\n",
            "Epoch 38/100\n",
            "1367/1367 [==============================] - 15s 11ms/step - loss: 4.5671e-04\n",
            "Epoch 39/100\n",
            "1367/1367 [==============================] - 14s 10ms/step - loss: 4.1763e-04\n",
            "Epoch 40/100\n",
            "1367/1367 [==============================] - 14s 10ms/step - loss: 4.1078e-04\n",
            "Epoch 41/100\n",
            "1367/1367 [==============================] - 14s 10ms/step - loss: 4.5016e-04\n",
            "Epoch 42/100\n",
            "1367/1367 [==============================] - 14s 10ms/step - loss: 3.9566e-04\n",
            "Epoch 43/100\n",
            "1367/1367 [==============================] - 14s 10ms/step - loss: 4.1430e-04\n",
            "Epoch 44/100\n",
            "1367/1367 [==============================] - 14s 11ms/step - loss: 4.0874e-04\n",
            "Epoch 45/100\n",
            "1367/1367 [==============================] - 14s 10ms/step - loss: 3.6949e-04\n",
            "Epoch 46/100\n",
            "1367/1367 [==============================] - 14s 10ms/step - loss: 4.2572e-04\n",
            "Epoch 47/100\n",
            "1367/1367 [==============================] - 14s 10ms/step - loss: 4.0555e-04\n",
            "Epoch 48/100\n",
            "1367/1367 [==============================] - 14s 10ms/step - loss: 4.1613e-04\n",
            "Epoch 49/100\n",
            "1367/1367 [==============================] - 14s 10ms/step - loss: 5.4410e-04\n",
            "Epoch 50/100\n",
            "1367/1367 [==============================] - 14s 10ms/step - loss: 4.1935e-04\n",
            "Epoch 51/100\n",
            "1367/1367 [==============================] - 14s 10ms/step - loss: 3.9731e-04\n",
            "Epoch 52/100\n",
            "1367/1367 [==============================] - 14s 10ms/step - loss: 3.8270e-04\n",
            "Epoch 53/100\n",
            "1367/1367 [==============================] - 14s 10ms/step - loss: 4.1369e-04\n",
            "Epoch 54/100\n",
            "1367/1367 [==============================] - 14s 10ms/step - loss: 4.0897e-04\n",
            "Epoch 55/100\n",
            "1367/1367 [==============================] - 14s 10ms/step - loss: 3.6942e-04\n",
            "Epoch 56/100\n",
            "1367/1367 [==============================] - 14s 10ms/step - loss: 4.0208e-04\n",
            "Epoch 57/100\n",
            "1367/1367 [==============================] - 14s 11ms/step - loss: 3.8327e-04\n",
            "Epoch 58/100\n",
            "1367/1367 [==============================] - 14s 10ms/step - loss: 3.8492e-04\n",
            "Epoch 59/100\n",
            "1367/1367 [==============================] - 14s 10ms/step - loss: 3.6535e-04\n",
            "Epoch 60/100\n",
            "1367/1367 [==============================] - 14s 11ms/step - loss: 3.8609e-04\n",
            "Epoch 61/100\n",
            "1367/1367 [==============================] - 14s 10ms/step - loss: 3.7446e-04\n",
            "Epoch 62/100\n",
            "1367/1367 [==============================] - 14s 10ms/step - loss: 3.8803e-04\n",
            "Epoch 63/100\n",
            "1367/1367 [==============================] - 14s 10ms/step - loss: 4.0383e-04\n",
            "Epoch 64/100\n",
            "1367/1367 [==============================] - 14s 10ms/step - loss: 3.9427e-04\n",
            "Epoch 65/100\n",
            "1367/1367 [==============================] - 14s 10ms/step - loss: 3.5570e-04\n",
            "Epoch 66/100\n",
            "1367/1367 [==============================] - 14s 10ms/step - loss: 3.8059e-04\n",
            "Epoch 67/100\n",
            "1367/1367 [==============================] - 14s 10ms/step - loss: 3.9635e-04\n",
            "Epoch 68/100\n",
            "1367/1367 [==============================] - 14s 10ms/step - loss: 3.7084e-04\n",
            "Epoch 69/100\n",
            "1367/1367 [==============================] - 14s 10ms/step - loss: 3.8363e-04\n",
            "Epoch 70/100\n",
            "1367/1367 [==============================] - 14s 10ms/step - loss: 3.6256e-04\n",
            "Epoch 71/100\n",
            "1367/1367 [==============================] - 14s 10ms/step - loss: 3.6640e-04\n",
            "Epoch 72/100\n",
            "1367/1367 [==============================] - 14s 10ms/step - loss: 3.8789e-04\n",
            "Epoch 73/100\n",
            "1367/1367 [==============================] - 14s 10ms/step - loss: 3.8429e-04\n",
            "Epoch 74/100\n",
            "1367/1367 [==============================] - 14s 10ms/step - loss: 3.7985e-04\n",
            "Epoch 75/100\n",
            "1367/1367 [==============================] - 14s 10ms/step - loss: 3.6791e-04\n",
            "Epoch 76/100\n",
            "1367/1367 [==============================] - 14s 10ms/step - loss: 3.6408e-04\n",
            "Epoch 77/100\n",
            "1367/1367 [==============================] - 14s 10ms/step - loss: 3.7370e-04\n",
            "Epoch 78/100\n",
            "1367/1367 [==============================] - 14s 10ms/step - loss: 3.7528e-04\n",
            "Epoch 79/100\n",
            "1367/1367 [==============================] - 14s 10ms/step - loss: 3.7585e-04\n",
            "Epoch 80/100\n",
            "1367/1367 [==============================] - 14s 10ms/step - loss: 3.8558e-04\n",
            "Epoch 81/100\n",
            "1367/1367 [==============================] - 14s 10ms/step - loss: 4.1560e-04\n",
            "Epoch 82/100\n",
            "1367/1367 [==============================] - 14s 10ms/step - loss: 3.8968e-04\n",
            "Epoch 83/100\n",
            "1367/1367 [==============================] - 14s 10ms/step - loss: 3.6039e-04\n",
            "Epoch 84/100\n",
            "1367/1367 [==============================] - 15s 11ms/step - loss: 3.9043e-04\n",
            "Epoch 85/100\n",
            "1367/1367 [==============================] - 14s 10ms/step - loss: 3.6203e-04\n",
            "Epoch 86/100\n",
            "1367/1367 [==============================] - 14s 10ms/step - loss: 3.5063e-04\n",
            "Epoch 87/100\n",
            "1367/1367 [==============================] - 14s 11ms/step - loss: 3.6685e-04\n",
            "Epoch 88/100\n",
            "1367/1367 [==============================] - 14s 11ms/step - loss: 3.6086e-04\n",
            "Epoch 89/100\n",
            "1367/1367 [==============================] - 14s 10ms/step - loss: 3.6130e-04\n",
            "Epoch 90/100\n",
            "1367/1367 [==============================] - 14s 10ms/step - loss: 3.7230e-04\n",
            "Epoch 91/100\n",
            "1367/1367 [==============================] - 14s 10ms/step - loss: 3.4646e-04\n",
            "Epoch 92/100\n",
            "1367/1367 [==============================] - 14s 10ms/step - loss: 3.5184e-04\n",
            "Epoch 93/100\n",
            "1367/1367 [==============================] - 14s 10ms/step - loss: 3.6198e-04\n",
            "Epoch 94/100\n",
            "1367/1367 [==============================] - 14s 10ms/step - loss: 3.6129e-04\n",
            "Epoch 95/100\n",
            "1367/1367 [==============================] - 14s 10ms/step - loss: 3.7015e-04\n",
            "Epoch 96/100\n",
            "1367/1367 [==============================] - 14s 10ms/step - loss: 3.5203e-04\n",
            "Epoch 97/100\n",
            "1367/1367 [==============================] - 14s 10ms/step - loss: 3.5541e-04\n",
            "Epoch 98/100\n",
            "1367/1367 [==============================] - 14s 10ms/step - loss: 3.6038e-04\n",
            "Epoch 99/100\n",
            "1367/1367 [==============================] - 14s 10ms/step - loss: 3.3647e-04\n",
            "Epoch 100/100\n",
            "1367/1367 [==============================] - 14s 10ms/step - loss: 3.3865e-04\n"
          ]
        },
        {
          "output_type": "execute_result",
          "data": {
            "text/plain": [
              "<keras.callbacks.History at 0x7f19878b2890>"
            ]
          },
          "metadata": {},
          "execution_count": 12
        }
      ]
    },
    {
      "cell_type": "code",
      "source": [
        "test_predictions = []\n",
        "\n",
        "first_eval_batch = train[-inputs:]\n",
        "current_batch = first_eval_batch.reshape((1, inputs, features))\n",
        "\n",
        "for i in range(len(test)):\n",
        "    \n",
        "    # get the prediction value for the first batch\n",
        "    current_pred = model.predict(current_batch)[0]\n",
        "    \n",
        "    # append the prediction into the array\n",
        "    test_predictions.append(current_pred) \n",
        "    \n",
        "    # use the prediction to update the batch and remove the first value\n",
        "    current_batch = np.append(current_batch[:,1:,:],[[current_pred]],axis=1)"
      ],
      "metadata": {
        "execution": {
          "iopub.status.busy": "2021-10-15T21:06:16.508753Z",
          "iopub.execute_input": "2021-10-15T21:06:16.509094Z",
          "iopub.status.idle": "2021-10-15T21:06:23.163678Z",
          "shell.execute_reply.started": "2021-10-15T21:06:16.509061Z",
          "shell.execute_reply": "2021-10-15T21:06:23.162445Z"
        },
        "trusted": true,
        "id": "_K-z9ClIT7I0"
      },
      "execution_count": 13,
      "outputs": []
    },
    {
      "cell_type": "code",
      "source": [
        "test_predictions"
      ],
      "metadata": {
        "execution": {
          "iopub.status.busy": "2021-10-15T21:06:23.167169Z",
          "iopub.execute_input": "2021-10-15T21:06:23.16774Z",
          "iopub.status.idle": "2021-10-15T21:06:23.201148Z",
          "shell.execute_reply.started": "2021-10-15T21:06:23.167665Z",
          "shell.execute_reply": "2021-10-15T21:06:23.200133Z"
        },
        "trusted": true,
        "colab": {
          "base_uri": "https://localhost:8080/"
        },
        "id": "UL46aQmfT7I1",
        "outputId": "26a68810-ccb5-4aad-ea60-0741406a68de"
      },
      "execution_count": 14,
      "outputs": [
        {
          "output_type": "execute_result",
          "data": {
            "text/plain": [
              "[array([0.47403336], dtype=float32),\n",
              " array([0.48175815], dtype=float32),\n",
              " array([0.48637646], dtype=float32),\n",
              " array([0.48934495], dtype=float32),\n",
              " array([0.4915448], dtype=float32),\n",
              " array([0.49251863], dtype=float32),\n",
              " array([0.49525893], dtype=float32),\n",
              " array([0.49691078], dtype=float32),\n",
              " array([0.50028384], dtype=float32),\n",
              " array([0.5030338], dtype=float32),\n",
              " array([0.5051314], dtype=float32),\n",
              " array([0.507734], dtype=float32),\n",
              " array([0.5100908], dtype=float32),\n",
              " array([0.5123538], dtype=float32),\n",
              " array([0.51375324], dtype=float32),\n",
              " array([0.515399], dtype=float32),\n",
              " array([0.51701087], dtype=float32),\n",
              " array([0.5185375], dtype=float32),\n",
              " array([0.51998615], dtype=float32),\n",
              " array([0.5214114], dtype=float32),\n",
              " array([0.52267796], dtype=float32),\n",
              " array([0.5238766], dtype=float32),\n",
              " array([0.5249084], dtype=float32),\n",
              " array([0.5258149], dtype=float32),\n",
              " array([0.5266131], dtype=float32),\n",
              " array([0.52722985], dtype=float32),\n",
              " array([0.5277387], dtype=float32),\n",
              " array([0.52811944], dtype=float32),\n",
              " array([0.52840066], dtype=float32),\n",
              " array([0.52856195], dtype=float32),\n",
              " array([0.52863383], dtype=float32),\n",
              " array([0.5286246], dtype=float32),\n",
              " array([0.52854544], dtype=float32),\n",
              " array([0.5284052], dtype=float32),\n",
              " array([0.5282228], dtype=float32),\n",
              " array([0.52800596], dtype=float32),\n",
              " array([0.52776897], dtype=float32),\n",
              " array([0.5275216], dtype=float32),\n",
              " array([0.5272713], dtype=float32),\n",
              " array([0.5270275], dtype=float32),\n",
              " array([0.52679396], dtype=float32),\n",
              " array([0.5265775], dtype=float32),\n",
              " array([0.52638006], dtype=float32),\n",
              " array([0.52620554], dtype=float32),\n",
              " array([0.52605486], dtype=float32),\n",
              " array([0.5259291], dtype=float32),\n",
              " array([0.5258281], dtype=float32),\n",
              " array([0.52575135], dtype=float32),\n",
              " array([0.52569693], dtype=float32),\n",
              " array([0.52566344], dtype=float32),\n",
              " array([0.5256484], dtype=float32),\n",
              " array([0.52564955], dtype=float32),\n",
              " array([0.5256642], dtype=float32),\n",
              " array([0.5256901], dtype=float32),\n",
              " array([0.5257247], dtype=float32),\n",
              " array([0.5257658], dtype=float32),\n",
              " array([0.5258112], dtype=float32),\n",
              " array([0.525859], dtype=float32),\n",
              " array([0.5259075], dtype=float32),\n",
              " array([0.5259552], dtype=float32),\n",
              " array([0.5260008], dtype=float32),\n",
              " array([0.5260434], dtype=float32),\n",
              " array([0.52608216], dtype=float32),\n",
              " array([0.52611667], dtype=float32),\n",
              " array([0.52614653], dtype=float32),\n",
              " array([0.52617145], dtype=float32),\n",
              " array([0.5261917], dtype=float32),\n",
              " array([0.5262073], dtype=float32),\n",
              " array([0.52621853], dtype=float32),\n",
              " array([0.5262257], dtype=float32),\n",
              " array([0.5262292], dtype=float32),\n",
              " array([0.52622956], dtype=float32),\n",
              " array([0.5262272], dtype=float32),\n",
              " array([0.5262226], dtype=float32),\n",
              " array([0.5262162], dtype=float32),\n",
              " array([0.52620846], dtype=float32),\n",
              " array([0.5261998], dtype=float32),\n",
              " array([0.52619064], dtype=float32),\n",
              " array([0.52618134], dtype=float32),\n",
              " array([0.52617216], dtype=float32),\n",
              " array([0.52616334], dtype=float32),\n",
              " array([0.5261551], dtype=float32),\n",
              " array([0.5261476], dtype=float32),\n",
              " array([0.5261408], dtype=float32),\n",
              " array([0.52613497], dtype=float32),\n",
              " array([0.52612996], dtype=float32),\n",
              " array([0.52612585], dtype=float32),\n",
              " array([0.5261227], dtype=float32),\n",
              " array([0.5261203], dtype=float32),\n",
              " array([0.52611876], dtype=float32),\n",
              " array([0.5261179], dtype=float32),\n",
              " array([0.5261178], dtype=float32),\n",
              " array([0.52611816], dtype=float32),\n",
              " array([0.526119], dtype=float32),\n",
              " array([0.5261201], dtype=float32),\n",
              " array([0.5261216], dtype=float32),\n",
              " array([0.5261232], dtype=float32),\n",
              " array([0.52612495], dtype=float32),\n",
              " array([0.52612674], dtype=float32),\n",
              " array([0.52612853], dtype=float32),\n",
              " array([0.5261303], dtype=float32),\n",
              " array([0.526132], dtype=float32),\n",
              " array([0.52613354], dtype=float32),\n",
              " array([0.52613485], dtype=float32),\n",
              " array([0.526136], dtype=float32),\n",
              " array([0.52613693], dtype=float32),\n",
              " array([0.52613777], dtype=float32),\n",
              " array([0.5261383], dtype=float32),\n",
              " array([0.5261388], dtype=float32),\n",
              " array([0.52613914], dtype=float32),\n",
              " array([0.52613926], dtype=float32),\n",
              " array([0.5261393], dtype=float32),\n",
              " array([0.52613926], dtype=float32),\n",
              " array([0.52613914], dtype=float32),\n",
              " array([0.52613884], dtype=float32),\n",
              " array([0.5261386], dtype=float32),\n",
              " array([0.52613825], dtype=float32),\n",
              " array([0.52613795], dtype=float32),\n",
              " array([0.5261376], dtype=float32),\n",
              " array([0.52613723], dtype=float32),\n",
              " array([0.52613693], dtype=float32),\n",
              " array([0.52613664], dtype=float32),\n",
              " array([0.5261364], dtype=float32),\n",
              " array([0.52613616], dtype=float32),\n",
              " array([0.5261359], dtype=float32),\n",
              " array([0.5261357], dtype=float32),\n",
              " array([0.5261355], dtype=float32),\n",
              " array([0.5261354], dtype=float32),\n",
              " array([0.5261353], dtype=float32),\n",
              " array([0.5261352], dtype=float32),\n",
              " array([0.5261352], dtype=float32),\n",
              " array([0.5261352], dtype=float32),\n",
              " array([0.5261352], dtype=float32),\n",
              " array([0.52613515], dtype=float32),\n",
              " array([0.5261352], dtype=float32),\n",
              " array([0.5261352], dtype=float32),\n",
              " array([0.5261352], dtype=float32),\n",
              " array([0.5261353], dtype=float32),\n",
              " array([0.5261353], dtype=float32),\n",
              " array([0.52613544], dtype=float32),\n",
              " array([0.52613544], dtype=float32),\n",
              " array([0.5261355], dtype=float32),\n",
              " array([0.52613556], dtype=float32),\n",
              " array([0.5261357], dtype=float32),\n",
              " array([0.52613574], dtype=float32),\n",
              " array([0.5261358], dtype=float32),\n",
              " array([0.5261359], dtype=float32),\n",
              " array([0.526136], dtype=float32),\n",
              " array([0.526136], dtype=float32),\n",
              " array([0.526136], dtype=float32)]"
            ]
          },
          "metadata": {},
          "execution_count": 14
        }
      ]
    },
    {
      "cell_type": "code",
      "source": [
        "true_predictions = scaler.inverse_transform(test_predictions)"
      ],
      "metadata": {
        "execution": {
          "iopub.status.busy": "2021-10-15T21:06:23.202969Z",
          "iopub.execute_input": "2021-10-15T21:06:23.203673Z",
          "iopub.status.idle": "2021-10-15T21:06:23.209407Z",
          "shell.execute_reply.started": "2021-10-15T21:06:23.203622Z",
          "shell.execute_reply": "2021-10-15T21:06:23.208303Z"
        },
        "trusted": true,
        "id": "kco-iBdST7I1"
      },
      "execution_count": 16,
      "outputs": []
    },
    {
      "cell_type": "code",
      "source": [
        "plt.figure(figsize=(15, 8))\n",
        "plt.plot(test, label='original')\n",
        "plt.plot(true_predictions, label='predicted')\n",
        "plt.show()"
      ],
      "metadata": {
        "execution": {
          "iopub.status.busy": "2021-10-15T21:06:23.21294Z",
          "iopub.execute_input": "2021-10-15T21:06:23.214212Z",
          "iopub.status.idle": "2021-10-15T21:06:23.481527Z",
          "shell.execute_reply.started": "2021-10-15T21:06:23.214152Z",
          "shell.execute_reply": "2021-10-15T21:06:23.480482Z"
        },
        "trusted": true,
        "colab": {
          "base_uri": "https://localhost:8080/",
          "height": 483
        },
        "id": "8m6hwd_mT7I2",
        "outputId": "c2562fa5-0401-4cc5-e347-6b8bb8b8c7b5"
      },
      "execution_count": 17,
      "outputs": [
        {
          "output_type": "display_data",
          "data": {
            "text/plain": [
              "<Figure size 1080x576 with 1 Axes>"
            ],
            "image/png": "[encoded data removed]"
          },
          "metadata": {
            "needs_background": "light"
          }
        }
      ]
    },
    {
      "cell_type": "code",
      "source": [
        "from sklearn.metrics import mean_squared_error\n",
        "from math import sqrt\n",
        "rmse=sqrt(mean_squared_error(test,true_predictions))\n",
        "print(rmse)"
      ],
      "metadata": {
        "execution": {
          "iopub.status.busy": "2021-10-15T21:06:23.483174Z",
          "iopub.execute_input": "2021-10-15T21:06:23.483455Z",
          "iopub.status.idle": "2021-10-15T21:06:23.492367Z",
          "shell.execute_reply.started": "2021-10-15T21:06:23.48342Z",
          "shell.execute_reply": "2021-10-15T21:06:23.491108Z"
        },
        "trusted": true,
        "colab": {
          "base_uri": "https://localhost:8080/"
        },
        "id": "ui4YGXB4T7I2",
        "outputId": "36b0a70a-f8e8-4d88-d342-cb542393d3b6"
      },
      "execution_count": 18,
      "outputs": [
        {
          "output_type": "stream",
          "name": "stdout",
          "text": [
            "0.07453751167247619\n"
          ]
        }
      ]
    },
    {
      "cell_type": "code",
      "source": [
        "plt.plot(true_predictions)\n",
        "plt.plot(test)"
      ],
      "metadata": {
        "execution": {
          "iopub.status.busy": "2021-10-15T21:06:23.494211Z",
          "iopub.execute_input": "2021-10-15T21:06:23.494958Z",
          "iopub.status.idle": "2021-10-15T21:06:23.727275Z",
          "shell.execute_reply.started": "2021-10-15T21:06:23.494909Z",
          "shell.execute_reply": "2021-10-15T21:06:23.726172Z"
        },
        "trusted": true,
        "colab": {
          "base_uri": "https://localhost:8080/",
          "height": 282
        },
        "id": "VRuFgR8CT7I3",
        "outputId": "3f9e77f9-2c7a-4854-a346-eec7f967b7e3"
      },
      "execution_count": 19,
      "outputs": [
        {
          "output_type": "execute_result",
          "data": {
            "text/plain": [
              "[<matplotlib.lines.Line2D at 0x7f1983879e50>]"
            ]
          },
          "metadata": {},
          "execution_count": 19
        },
        {
          "output_type": "display_data",
          "data": {
            "text/plain": [
              "<Figure size 432x288 with 1 Axes>"
            ],
            "image/png": "[encoded data removed]"
          },
          "metadata": {
            "needs_background": "light"
          }
        }
      ]
    },
    {
      "cell_type": "code",
      "source": [
        ""
      ],
      "metadata": {
        "id": "RcGUjb7eT7I3"
      },
      "execution_count": 19,
      "outputs": []
    }
  ]
}