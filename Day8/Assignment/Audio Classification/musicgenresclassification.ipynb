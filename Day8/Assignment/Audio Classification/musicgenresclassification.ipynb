{
 "cells": [
  {
   "cell_type": "markdown",
   "id": "e2ea907d",
   "metadata": {
    "papermill": {
     "duration": 0.015381,
     "end_time": "2022-05-04T14:13:16.149876",
     "exception": false,
     "start_time": "2022-05-04T14:13:16.134495",
     "status": "completed"
    },
    "tags": [],
    "pycharm": {
     "name": "#%% md\n"
    }
   },
   "source": [
    "# Music Genres Classification"
   ]
  },
  {
   "cell_type": "markdown",
   "id": "f52a978d",
   "metadata": {
    "papermill": {
     "duration": 0.01618,
     "end_time": "2022-05-04T14:13:16.180548",
     "exception": false,
     "start_time": "2022-05-04T14:13:16.164368",
     "status": "completed"
    },
    "tags": [],
    "pycharm": {
     "name": "#%% md\n"
    }
   },
   "source": [
    "## Features\n",
    "\n",
    "* filename\n",
    "* chroma_stft\n",
    "* rmse\n",
    "* spectral_centroid\n",
    "* spectral_bandwidth\n",
    "* rolloff\n",
    "* zero_crossing_rate\n",
    "* mfcc\n",
    "\n",
    "## On the subject :\n",
    "* Bressan and Azevedo, 2018, A COMPARISON OF CLASSIFIERS FOR MUSICAL GENRES CLASSIFICATION AND MUSIC EMOTION RECOGNITION"
   ]
  },
  {
   "cell_type": "code",
   "execution_count": 14,
   "id": "4b907826",
   "metadata": {
    "execution": {
     "iopub.execute_input": "2022-05-04T14:13:16.214857Z",
     "iopub.status.busy": "2022-05-04T14:13:16.214155Z",
     "iopub.status.idle": "2022-05-04T14:13:17.319392Z",
     "shell.execute_reply": "2022-05-04T14:13:17.318623Z"
    },
    "papermill": {
     "duration": 1.124528,
     "end_time": "2022-05-04T14:13:17.321739",
     "exception": false,
     "start_time": "2022-05-04T14:13:16.197211",
     "status": "completed"
    },
    "tags": [],
    "pycharm": {
     "name": "#%%\n"
    }
   },
   "outputs": [],
   "source": [
    "import numpy as np\n",
    "import pandas as pd\n",
    "import seaborn as sns\n",
    "import matplotlib.pyplot as plt"
   ]
  },
  {
   "cell_type": "code",
   "execution_count": 2,
   "id": "e82e2551",
   "metadata": {
    "execution": {
     "iopub.execute_input": "2022-05-04T14:13:17.351819Z",
     "iopub.status.busy": "2022-05-04T14:13:17.351546Z",
     "iopub.status.idle": "2022-05-04T14:13:17.771500Z",
     "shell.execute_reply": "2022-05-04T14:13:17.770511Z"
    },
    "papermill": {
     "duration": 0.438191,
     "end_time": "2022-05-04T14:13:17.774401",
     "exception": false,
     "start_time": "2022-05-04T14:13:17.336210",
     "status": "completed"
    },
    "tags": [],
    "pycharm": {
     "name": "#%%\n"
    }
   },
   "outputs": [],
   "source": [
    "from sklearn.ensemble import BaggingClassifier\n",
    "from sklearn.neighbors import KNeighborsClassifier\n",
    "from sklearn.ensemble import RandomForestClassifier\n",
    "from sklearn.tree import DecisionTreeClassifier\n",
    "\n",
    "from sklearn.metrics import f1_score # 2*(P*R)/(P+R)\n",
    "from sklearn.model_selection import train_test_split"
   ]
  },
  {
   "cell_type": "code",
   "execution_count": 3,
   "id": "6675962e",
   "metadata": {
    "execution": {
     "iopub.execute_input": "2022-05-04T14:13:17.805539Z",
     "iopub.status.busy": "2022-05-04T14:13:17.804977Z",
     "iopub.status.idle": "2022-05-04T14:13:17.873635Z",
     "shell.execute_reply": "2022-05-04T14:13:17.872657Z"
    },
    "papermill": {
     "duration": 0.087121,
     "end_time": "2022-05-04T14:13:17.876428",
     "exception": false,
     "start_time": "2022-05-04T14:13:17.789307",
     "status": "completed"
    },
    "tags": [],
    "pycharm": {
     "name": "#%%\n"
    }
   },
   "outputs": [
    {
     "data": {
      "text/plain": "          filename  chroma_stft      rmse  spectral_centroid  \\\n0  blues.00000.wav     0.349943  0.130225        1784.420446   \n1  blues.00001.wav     0.340983  0.095918        1529.835316   \n2  blues.00002.wav     0.363603  0.175573        1552.481958   \n3  blues.00003.wav     0.404779  0.141191        1070.119953   \n4  blues.00004.wav     0.308590  0.091563        1835.494603   \n\n   spectral_bandwidth      rolloff  zero_crossing_rate       mfcc1  \\\n0         2002.650192  3806.485316            0.083066 -113.596748   \n1         2038.617579  3548.820207            0.056044 -207.556793   \n2         1747.165985  3040.514948            0.076301  -90.754387   \n3         1596.333948  2185.028454            0.033309 -199.431152   \n4         1748.362448  3580.945013            0.101500 -160.266037   \n\n        mfcc2      mfcc3  ...    mfcc12    mfcc13    mfcc14    mfcc15  \\\n0  121.557297 -19.158825  ...  8.810669 -3.667368  5.751691 -5.162763   \n1  124.006721   8.930560  ...  5.376803 -2.239120  4.216963 -6.012273   \n2  140.459900 -29.109968  ...  5.789265 -8.905224 -1.083720 -9.218359   \n3  150.099213   5.647593  ...  6.087677 -2.476421 -1.073890 -2.874778   \n4  126.198807 -35.605450  ... -2.806384 -6.934123 -7.558618 -9.173553   \n\n     mfcc16    mfcc17    mfcc18    mfcc19     mfcc20  label  \n0  0.750948 -1.691938 -0.409953 -2.300209   1.219929  blues  \n1  0.936110 -0.716537  0.293876 -0.287431   0.531573  blues  \n2  2.455806 -7.726901 -1.815723 -3.433434  -2.226821  blues  \n3  0.780977 -3.316932  0.637982 -0.619690  -3.408233  blues  \n4 -4.512165 -5.453538 -0.924161 -4.409333 -11.703781  blues  \n\n[5 rows x 28 columns]",
      "text/html": "<div>\n<style scoped>\n    .dataframe tbody tr th:only-of-type {\n        vertical-align: middle;\n    }\n\n    .dataframe tbody tr th {\n        vertical-align: top;\n    }\n\n    .dataframe thead th {\n        text-align: right;\n    }\n</style>\n<table border=\"1\" class=\"dataframe\">\n  <thead>\n    <tr style=\"text-align: right;\">\n      <th></th>\n      <th>filename</th>\n      <th>chroma_stft</th>\n      <th>rmse</th>\n      <th>spectral_centroid</th>\n      <th>spectral_bandwidth</th>\n      <th>rolloff</th>\n      <th>zero_crossing_rate</th>\n      <th>mfcc1</th>\n      <th>mfcc2</th>\n      <th>mfcc3</th>\n      <th>...</th>\n      <th>mfcc12</th>\n      <th>mfcc13</th>\n      <th>mfcc14</th>\n      <th>mfcc15</th>\n      <th>mfcc16</th>\n      <th>mfcc17</th>\n      <th>mfcc18</th>\n      <th>mfcc19</th>\n      <th>mfcc20</th>\n      <th>label</th>\n    </tr>\n  </thead>\n  <tbody>\n    <tr>\n      <th>0</th>\n      <td>blues.00000.wav</td>\n      <td>0.349943</td>\n      <td>0.130225</td>\n      <td>1784.420446</td>\n      <td>2002.650192</td>\n      <td>3806.485316</td>\n      <td>0.083066</td>\n      <td>-113.596748</td>\n      <td>121.557297</td>\n      <td>-19.158825</td>\n      <td>...</td>\n      <td>8.810669</td>\n      <td>-3.667368</td>\n      <td>5.751691</td>\n      <td>-5.162763</td>\n      <td>0.750948</td>\n      <td>-1.691938</td>\n      <td>-0.409953</td>\n      <td>-2.300209</td>\n      <td>1.219929</td>\n      <td>blues</td>\n    </tr>\n    <tr>\n      <th>1</th>\n      <td>blues.00001.wav</td>\n      <td>0.340983</td>\n      <td>0.095918</td>\n      <td>1529.835316</td>\n      <td>2038.617579</td>\n      <td>3548.820207</td>\n      <td>0.056044</td>\n      <td>-207.556793</td>\n      <td>124.006721</td>\n      <td>8.930560</td>\n      <td>...</td>\n      <td>5.376803</td>\n      <td>-2.239120</td>\n      <td>4.216963</td>\n      <td>-6.012273</td>\n      <td>0.936110</td>\n      <td>-0.716537</td>\n      <td>0.293876</td>\n      <td>-0.287431</td>\n      <td>0.531573</td>\n      <td>blues</td>\n    </tr>\n    <tr>\n      <th>2</th>\n      <td>blues.00002.wav</td>\n      <td>0.363603</td>\n      <td>0.175573</td>\n      <td>1552.481958</td>\n      <td>1747.165985</td>\n      <td>3040.514948</td>\n      <td>0.076301</td>\n      <td>-90.754387</td>\n      <td>140.459900</td>\n      <td>-29.109968</td>\n      <td>...</td>\n      <td>5.789265</td>\n      <td>-8.905224</td>\n      <td>-1.083720</td>\n      <td>-9.218359</td>\n      <td>2.455806</td>\n      <td>-7.726901</td>\n      <td>-1.815723</td>\n      <td>-3.433434</td>\n      <td>-2.226821</td>\n      <td>blues</td>\n    </tr>\n    <tr>\n      <th>3</th>\n      <td>blues.00003.wav</td>\n      <td>0.404779</td>\n      <td>0.141191</td>\n      <td>1070.119953</td>\n      <td>1596.333948</td>\n      <td>2185.028454</td>\n      <td>0.033309</td>\n      <td>-199.431152</td>\n      <td>150.099213</td>\n      <td>5.647593</td>\n      <td>...</td>\n      <td>6.087677</td>\n      <td>-2.476421</td>\n      <td>-1.073890</td>\n      <td>-2.874778</td>\n      <td>0.780977</td>\n      <td>-3.316932</td>\n      <td>0.637982</td>\n      <td>-0.619690</td>\n      <td>-3.408233</td>\n      <td>blues</td>\n    </tr>\n    <tr>\n      <th>4</th>\n      <td>blues.00004.wav</td>\n      <td>0.308590</td>\n      <td>0.091563</td>\n      <td>1835.494603</td>\n      <td>1748.362448</td>\n      <td>3580.945013</td>\n      <td>0.101500</td>\n      <td>-160.266037</td>\n      <td>126.198807</td>\n      <td>-35.605450</td>\n      <td>...</td>\n      <td>-2.806384</td>\n      <td>-6.934123</td>\n      <td>-7.558618</td>\n      <td>-9.173553</td>\n      <td>-4.512165</td>\n      <td>-5.453538</td>\n      <td>-0.924161</td>\n      <td>-4.409333</td>\n      <td>-11.703781</td>\n      <td>blues</td>\n    </tr>\n  </tbody>\n</table>\n<p>5 rows × 28 columns</p>\n</div>"
     },
     "execution_count": 3,
     "metadata": {},
     "output_type": "execute_result"
    }
   ],
   "source": [
    "df = pd.read_csv('dataset.csv')\n",
    "df.head()"
   ]
  },
  {
   "cell_type": "code",
   "execution_count": 4,
   "id": "7713c917",
   "metadata": {
    "execution": {
     "iopub.execute_input": "2022-05-04T14:13:17.908682Z",
     "iopub.status.busy": "2022-05-04T14:13:17.908420Z",
     "iopub.status.idle": "2022-05-04T14:13:17.932289Z",
     "shell.execute_reply": "2022-05-04T14:13:17.931380Z"
    },
    "papermill": {
     "duration": 0.043064,
     "end_time": "2022-05-04T14:13:17.934916",
     "exception": false,
     "start_time": "2022-05-04T14:13:17.891852",
     "status": "completed"
    },
    "tags": [],
    "pycharm": {
     "name": "#%%\n"
    }
   },
   "outputs": [
    {
     "name": "stdout",
     "output_type": "stream",
     "text": [
      "<class 'pandas.core.frame.DataFrame'>\n",
      "RangeIndex: 1000 entries, 0 to 999\n",
      "Data columns (total 28 columns):\n",
      " #   Column              Non-Null Count  Dtype  \n",
      "---  ------              --------------  -----  \n",
      " 0   filename            1000 non-null   object \n",
      " 1   chroma_stft         1000 non-null   float64\n",
      " 2   rmse                1000 non-null   float64\n",
      " 3   spectral_centroid   1000 non-null   float64\n",
      " 4   spectral_bandwidth  1000 non-null   float64\n",
      " 5   rolloff             1000 non-null   float64\n",
      " 6   zero_crossing_rate  1000 non-null   float64\n",
      " 7   mfcc1               1000 non-null   float64\n",
      " 8   mfcc2               1000 non-null   float64\n",
      " 9   mfcc3               1000 non-null   float64\n",
      " 10  mfcc4               1000 non-null   float64\n",
      " 11  mfcc5               1000 non-null   float64\n",
      " 12  mfcc6               1000 non-null   float64\n",
      " 13  mfcc7               1000 non-null   float64\n",
      " 14  mfcc8               1000 non-null   float64\n",
      " 15  mfcc9               1000 non-null   float64\n",
      " 16  mfcc10              1000 non-null   float64\n",
      " 17  mfcc11              1000 non-null   float64\n",
      " 18  mfcc12              1000 non-null   float64\n",
      " 19  mfcc13              1000 non-null   float64\n",
      " 20  mfcc14              1000 non-null   float64\n",
      " 21  mfcc15              1000 non-null   float64\n",
      " 22  mfcc16              1000 non-null   float64\n",
      " 23  mfcc17              1000 non-null   float64\n",
      " 24  mfcc18              1000 non-null   float64\n",
      " 25  mfcc19              1000 non-null   float64\n",
      " 26  mfcc20              1000 non-null   float64\n",
      " 27  label               1000 non-null   object \n",
      "dtypes: float64(26), object(2)\n",
      "memory usage: 218.9+ KB\n"
     ]
    }
   ],
   "source": [
    "df.info()"
   ]
  },
  {
   "cell_type": "code",
   "execution_count": 5,
   "id": "0d3465b4",
   "metadata": {
    "execution": {
     "iopub.execute_input": "2022-05-04T14:13:17.968188Z",
     "iopub.status.busy": "2022-05-04T14:13:17.967710Z",
     "iopub.status.idle": "2022-05-04T14:13:17.975338Z",
     "shell.execute_reply": "2022-05-04T14:13:17.974449Z"
    },
    "papermill": {
     "duration": 0.027075,
     "end_time": "2022-05-04T14:13:17.977566",
     "exception": false,
     "start_time": "2022-05-04T14:13:17.950491",
     "status": "completed"
    },
    "tags": [],
    "pycharm": {
     "name": "#%%\n"
    }
   },
   "outputs": [
    {
     "data": {
      "text/plain": "array(['blues', 'classical', 'country', 'disco', 'hiphop', 'jazz',\n       'metal', 'pop', 'reggae', 'rock'], dtype=object)"
     },
     "execution_count": 5,
     "metadata": {},
     "output_type": "execute_result"
    }
   ],
   "source": [
    "genres = df.iloc[:,27].copy()\n",
    "genres.unique()"
   ]
  },
  {
   "cell_type": "code",
   "execution_count": 6,
   "id": "0c2e76ff",
   "metadata": {
    "execution": {
     "iopub.execute_input": "2022-05-04T14:13:18.013258Z",
     "iopub.status.busy": "2022-05-04T14:13:18.012978Z",
     "iopub.status.idle": "2022-05-04T14:13:18.037317Z",
     "shell.execute_reply": "2022-05-04T14:13:18.036478Z"
    },
    "papermill": {
     "duration": 0.043119,
     "end_time": "2022-05-04T14:13:18.039334",
     "exception": false,
     "start_time": "2022-05-04T14:13:17.996215",
     "status": "completed"
    },
    "tags": [],
    "pycharm": {
     "name": "#%%\n"
    }
   },
   "outputs": [
    {
     "data": {
      "text/plain": "   chroma_stft      rmse  spectral_centroid  spectral_bandwidth      rolloff  \\\n0     0.349943  0.130225        1784.420446         2002.650192  3806.485316   \n1     0.340983  0.095918        1529.835316         2038.617579  3548.820207   \n2     0.363603  0.175573        1552.481958         1747.165985  3040.514948   \n3     0.404779  0.141191        1070.119953         1596.333948  2185.028454   \n4     0.308590  0.091563        1835.494603         1748.362448  3580.945013   \n\n   zero_crossing_rate       mfcc1       mfcc2      mfcc3      mfcc4  ...  \\\n0            0.083066 -113.596748  121.557297 -19.158825  42.351028  ...   \n1            0.056044 -207.556793  124.006721   8.930560  35.874683  ...   \n2            0.076301  -90.754387  140.459900 -29.109968  31.689013  ...   \n3            0.033309 -199.431152  150.099213   5.647593  26.871927  ...   \n4            0.101500 -160.266037  126.198807 -35.605450  22.153301  ...   \n\n      mfcc11    mfcc12    mfcc13    mfcc14    mfcc15    mfcc16    mfcc17  \\\n0  -8.324325  8.810669 -3.667368  5.751691 -5.162763  0.750948 -1.691938   \n1  -5.560388  5.376803 -2.239120  4.216963 -6.012273  0.936110 -0.716537   \n2 -13.123111  5.789265 -8.905224 -1.083720 -9.218359  2.455806 -7.726901   \n3  -3.196314  6.087677 -2.476421 -1.073890 -2.874778  0.780977 -3.316932   \n4 -13.083821 -2.806384 -6.934123 -7.558618 -9.173553 -4.512165 -5.453538   \n\n     mfcc18    mfcc19     mfcc20  \n0 -0.409953 -2.300209   1.219929  \n1  0.293876 -0.287431   0.531573  \n2 -1.815723 -3.433434  -2.226821  \n3  0.637982 -0.619690  -3.408233  \n4 -0.924161 -4.409333 -11.703781  \n\n[5 rows x 26 columns]",
      "text/html": "<div>\n<style scoped>\n    .dataframe tbody tr th:only-of-type {\n        vertical-align: middle;\n    }\n\n    .dataframe tbody tr th {\n        vertical-align: top;\n    }\n\n    .dataframe thead th {\n        text-align: right;\n    }\n</style>\n<table border=\"1\" class=\"dataframe\">\n  <thead>\n    <tr style=\"text-align: right;\">\n      <th></th>\n      <th>chroma_stft</th>\n      <th>rmse</th>\n      <th>spectral_centroid</th>\n      <th>spectral_bandwidth</th>\n      <th>rolloff</th>\n      <th>zero_crossing_rate</th>\n      <th>mfcc1</th>\n      <th>mfcc2</th>\n      <th>mfcc3</th>\n      <th>mfcc4</th>\n      <th>...</th>\n      <th>mfcc11</th>\n      <th>mfcc12</th>\n      <th>mfcc13</th>\n      <th>mfcc14</th>\n      <th>mfcc15</th>\n      <th>mfcc16</th>\n      <th>mfcc17</th>\n      <th>mfcc18</th>\n      <th>mfcc19</th>\n      <th>mfcc20</th>\n    </tr>\n  </thead>\n  <tbody>\n    <tr>\n      <th>0</th>\n      <td>0.349943</td>\n      <td>0.130225</td>\n      <td>1784.420446</td>\n      <td>2002.650192</td>\n      <td>3806.485316</td>\n      <td>0.083066</td>\n      <td>-113.596748</td>\n      <td>121.557297</td>\n      <td>-19.158825</td>\n      <td>42.351028</td>\n      <td>...</td>\n      <td>-8.324325</td>\n      <td>8.810669</td>\n      <td>-3.667368</td>\n      <td>5.751691</td>\n      <td>-5.162763</td>\n      <td>0.750948</td>\n      <td>-1.691938</td>\n      <td>-0.409953</td>\n      <td>-2.300209</td>\n      <td>1.219929</td>\n    </tr>\n    <tr>\n      <th>1</th>\n      <td>0.340983</td>\n      <td>0.095918</td>\n      <td>1529.835316</td>\n      <td>2038.617579</td>\n      <td>3548.820207</td>\n      <td>0.056044</td>\n      <td>-207.556793</td>\n      <td>124.006721</td>\n      <td>8.930560</td>\n      <td>35.874683</td>\n      <td>...</td>\n      <td>-5.560388</td>\n      <td>5.376803</td>\n      <td>-2.239120</td>\n      <td>4.216963</td>\n      <td>-6.012273</td>\n      <td>0.936110</td>\n      <td>-0.716537</td>\n      <td>0.293876</td>\n      <td>-0.287431</td>\n      <td>0.531573</td>\n    </tr>\n    <tr>\n      <th>2</th>\n      <td>0.363603</td>\n      <td>0.175573</td>\n      <td>1552.481958</td>\n      <td>1747.165985</td>\n      <td>3040.514948</td>\n      <td>0.076301</td>\n      <td>-90.754387</td>\n      <td>140.459900</td>\n      <td>-29.109968</td>\n      <td>31.689013</td>\n      <td>...</td>\n      <td>-13.123111</td>\n      <td>5.789265</td>\n      <td>-8.905224</td>\n      <td>-1.083720</td>\n      <td>-9.218359</td>\n      <td>2.455806</td>\n      <td>-7.726901</td>\n      <td>-1.815723</td>\n      <td>-3.433434</td>\n      <td>-2.226821</td>\n    </tr>\n    <tr>\n      <th>3</th>\n      <td>0.404779</td>\n      <td>0.141191</td>\n      <td>1070.119953</td>\n      <td>1596.333948</td>\n      <td>2185.028454</td>\n      <td>0.033309</td>\n      <td>-199.431152</td>\n      <td>150.099213</td>\n      <td>5.647593</td>\n      <td>26.871927</td>\n      <td>...</td>\n      <td>-3.196314</td>\n      <td>6.087677</td>\n      <td>-2.476421</td>\n      <td>-1.073890</td>\n      <td>-2.874778</td>\n      <td>0.780977</td>\n      <td>-3.316932</td>\n      <td>0.637982</td>\n      <td>-0.619690</td>\n      <td>-3.408233</td>\n    </tr>\n    <tr>\n      <th>4</th>\n      <td>0.308590</td>\n      <td>0.091563</td>\n      <td>1835.494603</td>\n      <td>1748.362448</td>\n      <td>3580.945013</td>\n      <td>0.101500</td>\n      <td>-160.266037</td>\n      <td>126.198807</td>\n      <td>-35.605450</td>\n      <td>22.153301</td>\n      <td>...</td>\n      <td>-13.083821</td>\n      <td>-2.806384</td>\n      <td>-6.934123</td>\n      <td>-7.558618</td>\n      <td>-9.173553</td>\n      <td>-4.512165</td>\n      <td>-5.453538</td>\n      <td>-0.924161</td>\n      <td>-4.409333</td>\n      <td>-11.703781</td>\n    </tr>\n  </tbody>\n</table>\n<p>5 rows × 26 columns</p>\n</div>"
     },
     "execution_count": 6,
     "metadata": {},
     "output_type": "execute_result"
    }
   ],
   "source": [
    "data = df.iloc[:,1:27].copy()\n",
    "data.head()"
   ]
  },
  {
   "cell_type": "code",
   "execution_count": 7,
   "id": "6836e6d4",
   "metadata": {
    "execution": {
     "iopub.execute_input": "2022-05-04T14:13:18.073698Z",
     "iopub.status.busy": "2022-05-04T14:13:18.073184Z",
     "iopub.status.idle": "2022-05-04T14:13:18.082651Z",
     "shell.execute_reply": "2022-05-04T14:13:18.081972Z"
    },
    "papermill": {
     "duration": 0.02916,
     "end_time": "2022-05-04T14:13:18.084779",
     "exception": false,
     "start_time": "2022-05-04T14:13:18.055619",
     "status": "completed"
    },
    "tags": [],
    "pycharm": {
     "name": "#%%\n"
    }
   },
   "outputs": [],
   "source": [
    "X_train, X_test, y_train, y_test = train_test_split(data, genres, test_size=0.2, random_state=42, stratify=genres)"
   ]
  },
  {
   "cell_type": "code",
   "execution_count": 8,
   "id": "d9a4d8f7",
   "metadata": {
    "execution": {
     "iopub.execute_input": "2022-05-04T14:13:18.119431Z",
     "iopub.status.busy": "2022-05-04T14:13:18.118934Z",
     "iopub.status.idle": "2022-05-04T14:13:18.155335Z",
     "shell.execute_reply": "2022-05-04T14:13:18.154576Z"
    },
    "papermill": {
     "duration": 0.056011,
     "end_time": "2022-05-04T14:13:18.157340",
     "exception": false,
     "start_time": "2022-05-04T14:13:18.101329",
     "status": "completed"
    },
    "tags": [],
    "pycharm": {
     "name": "#%%\n"
    }
   },
   "outputs": [
    {
     "data": {
      "text/plain": "0.4653310404157863"
     },
     "execution_count": 8,
     "metadata": {},
     "output_type": "execute_result"
    }
   ],
   "source": [
    "tree = DecisionTreeClassifier().fit(X_train, y_train)\n",
    "y_tree = tree.predict(X_test)\n",
    "f1_tree = f1_score(y_test, y_tree, average='macro')\n",
    "\n",
    "f1_tree"
   ]
  },
  {
   "cell_type": "code",
   "execution_count": 9,
   "id": "07013f0c",
   "metadata": {
    "execution": {
     "iopub.execute_input": "2022-05-04T14:13:18.192790Z",
     "iopub.status.busy": "2022-05-04T14:13:18.192480Z",
     "iopub.status.idle": "2022-05-04T14:13:18.231603Z",
     "shell.execute_reply": "2022-05-04T14:13:18.230618Z"
    },
    "papermill": {
     "duration": 0.060614,
     "end_time": "2022-05-04T14:13:18.234713",
     "exception": false,
     "start_time": "2022-05-04T14:13:18.174099",
     "status": "completed"
    },
    "tags": [],
    "pycharm": {
     "name": "#%%\n"
    }
   },
   "outputs": [
    {
     "data": {
      "text/plain": "0.3646283291289103"
     },
     "execution_count": 9,
     "metadata": {},
     "output_type": "execute_result"
    }
   ],
   "source": [
    "knn = KNeighborsClassifier().fit(X_train, y_train)\n",
    "y_knn = knn.predict(X_test)\n",
    "f1_knn = f1_score(y_test, y_knn, average='macro')\n",
    "\n",
    "f1_knn"
   ]
  },
  {
   "cell_type": "code",
   "execution_count": 10,
   "id": "003b0f81",
   "metadata": {
    "execution": {
     "iopub.execute_input": "2022-05-04T14:13:18.299664Z",
     "iopub.status.busy": "2022-05-04T14:13:18.299253Z",
     "iopub.status.idle": "2022-05-04T14:13:18.771388Z",
     "shell.execute_reply": "2022-05-04T14:13:18.770636Z"
    },
    "papermill": {
     "duration": 0.507667,
     "end_time": "2022-05-04T14:13:18.773558",
     "exception": false,
     "start_time": "2022-05-04T14:13:18.265891",
     "status": "completed"
    },
    "tags": [],
    "pycharm": {
     "name": "#%%\n"
    }
   },
   "outputs": [
    {
     "data": {
      "text/plain": "0.6365400663468888"
     },
     "execution_count": 10,
     "metadata": {},
     "output_type": "execute_result"
    }
   ],
   "source": [
    "rf = RandomForestClassifier().fit(X_train, y_train)\n",
    "y_rf = rf.predict(X_test)\n",
    "f1_rf = f1_score(y_test, y_rf, average='macro')\n",
    "\n",
    "f1_rf"
   ]
  },
  {
   "cell_type": "code",
   "execution_count": 11,
   "id": "cef738a3",
   "metadata": {
    "execution": {
     "iopub.execute_input": "2022-05-04T14:13:18.810770Z",
     "iopub.status.busy": "2022-05-04T14:13:18.809896Z",
     "iopub.status.idle": "2022-05-04T14:13:18.969172Z",
     "shell.execute_reply": "2022-05-04T14:13:18.968268Z"
    },
    "papermill": {
     "duration": 0.180177,
     "end_time": "2022-05-04T14:13:18.971210",
     "exception": false,
     "start_time": "2022-05-04T14:13:18.791033",
     "status": "completed"
    },
    "tags": [],
    "pycharm": {
     "name": "#%%\n"
    }
   },
   "outputs": [
    {
     "data": {
      "text/plain": "0.5372274163328029"
     },
     "execution_count": 11,
     "metadata": {},
     "output_type": "execute_result"
    }
   ],
   "source": [
    "bag = BaggingClassifier().fit(X_train, y_train)\n",
    "y_bag = bag.predict(X_test)\n",
    "f1_bag = f1_score(y_test, y_bag, average='macro')\n",
    "\n",
    "f1_bag"
   ]
  },
  {
   "cell_type": "code",
   "execution_count": 29,
   "outputs": [
    {
     "data": {
      "text/plain": "          Model     Score\n0           KNN  0.364628\n1  DecisionTree  0.465331\n2  RandomForest  0.636540\n3       Bagging  0.537227",
      "text/html": "<div>\n<style scoped>\n    .dataframe tbody tr th:only-of-type {\n        vertical-align: middle;\n    }\n\n    .dataframe tbody tr th {\n        vertical-align: top;\n    }\n\n    .dataframe thead th {\n        text-align: right;\n    }\n</style>\n<table border=\"1\" class=\"dataframe\">\n  <thead>\n    <tr style=\"text-align: right;\">\n      <th></th>\n      <th>Model</th>\n      <th>Score</th>\n    </tr>\n  </thead>\n  <tbody>\n    <tr>\n      <th>0</th>\n      <td>KNN</td>\n      <td>0.364628</td>\n    </tr>\n    <tr>\n      <th>1</th>\n      <td>DecisionTree</td>\n      <td>0.465331</td>\n    </tr>\n    <tr>\n      <th>2</th>\n      <td>RandomForest</td>\n      <td>0.636540</td>\n    </tr>\n    <tr>\n      <th>3</th>\n      <td>Bagging</td>\n      <td>0.537227</td>\n    </tr>\n  </tbody>\n</table>\n</div>"
     },
     "execution_count": 29,
     "metadata": {},
     "output_type": "execute_result"
    }
   ],
   "source": [
    "scores = [('KNN', f1_knn), ('DecisionTree', f1_tree), ('RandomForest', f1_rf), ('Bagging', f1_bag)]\n",
    "comp = pd.DataFrame(data = scores, columns=['Model', 'Score'])\n",
    "comp"
   ],
   "metadata": {
    "collapsed": false,
    "pycharm": {
     "name": "#%%\n"
    }
   }
  },
  {
   "cell_type": "code",
   "execution_count": 31,
   "outputs": [
    {
     "data": {
      "text/plain": "<Figure size 864x360 with 1 Axes>",
      "image/png": "[encoded data removed]"
     },
     "metadata": {},
     "output_type": "display_data"
    }
   ],
   "source": [
    "# predict = pd.DataFrame(data = scores, columns=['Model', 'Score'])\n",
    "\n",
    "f, axe = plt.subplots(1,1, figsize=(12,5))\n",
    "sns.barplot(y='Model', x='Score', data=comp, ax = axe)\n",
    "axe.set_ylabel('Model', size=20)\n",
    "axe.set_xlabel('Score', size=20)\n",
    "\n",
    "plt.show()"
   ],
   "metadata": {
    "collapsed": false,
    "pycharm": {
     "name": "#%%\n"
    }
   }
  },
  {
   "cell_type": "code",
   "execution_count": null,
   "outputs": [],
   "source": [],
   "metadata": {
    "collapsed": false,
    "pycharm": {
     "name": "#%%\n"
    }
   }
  }
 ],
 "metadata": {
  "kernelspec": {
   "display_name": "Python 3",
   "language": "python",
   "name": "python3"
  },
  "language_info": {
   "codemirror_mode": {
    "name": "ipython",
    "version": 3
   },
   "file_extension": ".py",
   "mimetype": "text/x-python",
   "name": "python",
   "nbconvert_exporter": "python",
   "pygments_lexer": "ipython3",
   "version": "3.7.12"
  },
  "papermill": {
   "default_parameters": {},
   "duration": 13.576726,
   "end_time": "2022-05-04T14:13:19.763162",
   "environment_variables": {},
   "exception": null,
   "input_path": "__notebook__.ipynb",
   "output_path": "__notebook__.ipynb",
   "parameters": {},
   "start_time": "2022-05-04T14:13:06.186436",
   "version": "2.3.4"
  }
 },
 "nbformat": 4,
 "nbformat_minor": 5
}