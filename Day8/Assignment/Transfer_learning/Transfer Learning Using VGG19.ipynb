{
 "cells": [
  {
   "cell_type": "code",
   "execution_count": 1,
   "id": "219a46ea",
   "metadata": {},
   "outputs": [],
   "source": [
    "from keras.layers import Input, Lambda, Dense, Flatten\n",
    "from keras.models import Model\n",
    "from keras.applications.vgg19 import VGG19\n",
    "from keras.applications.vgg19 import preprocess_input\n",
    "from keras.preprocessing import image\n",
    "from keras.preprocessing.image import ImageDataGenerator\n",
    "from keras.models import Sequential\n",
    "import numpy as np\n",
    "from glob import glob\n",
    "import matplotlib.pyplot as plt"
   ]
  },
  {
   "cell_type": "code",
   "execution_count": 2,
   "id": "27897627",
   "metadata": {},
   "outputs": [],
   "source": [
    "# import splitfolders\n",
    "# splitfolders.ratio(\"avengers_images\", output=\"split\", seed=1337, ratio=(.8, .2), group_prefix=None)"
   ]
  },
  {
   "cell_type": "code",
   "execution_count": 3,
   "id": "84e3a2da",
   "metadata": {},
   "outputs": [],
   "source": [
    "# re-size all the images to this\n",
    "IMAGE_SIZE = [224, 224]\n",
    "\n",
    "train_path = 'dataset/train'\n",
    "valid_path = 'dataset/val'"
   ]
  },
  {
   "cell_type": "code",
   "execution_count": 4,
   "id": "45009891",
   "metadata": {},
   "outputs": [
    {
     "name": "stdout",
     "output_type": "stream",
     "text": [
      "Downloading data from https://storage.googleapis.com/tensorflow/keras-applications/vgg19/vgg19_weights_tf_dim_ordering_tf_kernels_notop.h5\n",
      "80134624/80134624 [==============================] - 25s 0us/step\n"
     ]
    }
   ],
   "source": [
    "# add preprocessing layer to the front of VGG\n",
    "vgg = VGG19(input_shape=IMAGE_SIZE + [3], weights='imagenet', include_top=False)\n",
    "\n",
    "# don't train existing weights\n",
    "for layer in vgg.layers:\n",
    "  layer.trainable = False"
   ]
  },
  {
   "cell_type": "code",
   "execution_count": 5,
   "id": "8fc8ccd9",
   "metadata": {},
   "outputs": [
    {
     "data": {
      "text/plain": [
       "['dataset/train\\\\chris_evans',\n",
       " 'dataset/train\\\\chris_hemsworth',\n",
       " 'dataset/train\\\\mark_ruffalo',\n",
       " 'dataset/train\\\\robert_downey_jr',\n",
       " 'dataset/train\\\\scarlett_johansson']"
      ]
     },
     "execution_count": 5,
     "metadata": {},
     "output_type": "execute_result"
    }
   ],
   "source": [
    "# useful for getting number of classes\n",
    "folders = glob('dataset/train/*')\n",
    "folders"
   ]
  },
  {
   "cell_type": "code",
   "execution_count": 6,
   "id": "6bba5913",
   "metadata": {},
   "outputs": [],
   "source": [
    "# our layers - you can add more if you want\n",
    "x = Flatten()(vgg.output)\n",
    "prediction = Dense(len(folders), activation='softmax')(x)"
   ]
  },
  {
   "cell_type": "code",
   "execution_count": 7,
   "id": "fa39f3a3",
   "metadata": {},
   "outputs": [
    {
     "name": "stdout",
     "output_type": "stream",
     "text": [
      "Model: \"model\"\n",
      "_________________________________________________________________\n",
      " Layer (type)                Output Shape              Param #   \n",
      "=================================================================\n",
      " input_1 (InputLayer)        [(None, 224, 224, 3)]     0         \n",
      "                                                                 \n",
      " block1_conv1 (Conv2D)       (None, 224, 224, 64)      1792      \n",
      "                                                                 \n",
      " block1_conv2 (Conv2D)       (None, 224, 224, 64)      36928     \n",
      "                                                                 \n",
      " block1_pool (MaxPooling2D)  (None, 112, 112, 64)      0         \n",
      "                                                                 \n",
      " block2_conv1 (Conv2D)       (None, 112, 112, 128)     73856     \n",
      "                                                                 \n",
      " block2_conv2 (Conv2D)       (None, 112, 112, 128)     147584    \n",
      "                                                                 \n",
      " block2_pool (MaxPooling2D)  (None, 56, 56, 128)       0         \n",
      "                                                                 \n",
      " block3_conv1 (Conv2D)       (None, 56, 56, 256)       295168    \n",
      "                                                                 \n",
      " block3_conv2 (Conv2D)       (None, 56, 56, 256)       590080    \n",
      "                                                                 \n",
      " block3_conv3 (Conv2D)       (None, 56, 56, 256)       590080    \n",
      "                                                                 \n",
      " block3_conv4 (Conv2D)       (None, 56, 56, 256)       590080    \n",
      "                                                                 \n",
      " block3_pool (MaxPooling2D)  (None, 28, 28, 256)       0         \n",
      "                                                                 \n",
      " block4_conv1 (Conv2D)       (None, 28, 28, 512)       1180160   \n",
      "                                                                 \n",
      " block4_conv2 (Conv2D)       (None, 28, 28, 512)       2359808   \n",
      "                                                                 \n",
      " block4_conv3 (Conv2D)       (None, 28, 28, 512)       2359808   \n",
      "                                                                 \n",
      " block4_conv4 (Conv2D)       (None, 28, 28, 512)       2359808   \n",
      "                                                                 \n",
      " block4_pool (MaxPooling2D)  (None, 14, 14, 512)       0         \n",
      "                                                                 \n",
      " block5_conv1 (Conv2D)       (None, 14, 14, 512)       2359808   \n",
      "                                                                 \n",
      " block5_conv2 (Conv2D)       (None, 14, 14, 512)       2359808   \n",
      "                                                                 \n",
      " block5_conv3 (Conv2D)       (None, 14, 14, 512)       2359808   \n",
      "                                                                 \n",
      " block5_conv4 (Conv2D)       (None, 14, 14, 512)       2359808   \n",
      "                                                                 \n",
      " block5_pool (MaxPooling2D)  (None, 7, 7, 512)         0         \n",
      "                                                                 \n",
      " flatten (Flatten)           (None, 25088)             0         \n",
      "                                                                 \n",
      " dense (Dense)               (None, 5)                 125445    \n",
      "                                                                 \n",
      "=================================================================\n",
      "Total params: 20,149,829\n",
      "Trainable params: 125,445\n",
      "Non-trainable params: 20,024,384\n",
      "_________________________________________________________________\n"
     ]
    }
   ],
   "source": [
    "# create a model object\n",
    "model = Model(inputs=vgg.input, outputs=prediction)\n",
    "\n",
    "# view the structure of the model\n",
    "model.summary()"
   ]
  },
  {
   "cell_type": "code",
   "execution_count": 8,
   "id": "5825e8db",
   "metadata": {},
   "outputs": [],
   "source": [
    "# tell the model what cost and optimization method to use\n",
    "model.compile(\n",
    "  loss='categorical_crossentropy',\n",
    "  optimizer='adam',\n",
    "  metrics=['accuracy']\n",
    ")"
   ]
  },
  {
   "cell_type": "code",
   "execution_count": 9,
   "id": "49972aee",
   "metadata": {},
   "outputs": [
    {
     "name": "stdout",
     "output_type": "stream",
     "text": [
      "Found 217 images belonging to 5 classes.\n",
      "Found 57 images belonging to 5 classes.\n"
     ]
    }
   ],
   "source": [
    "from keras.preprocessing.image import ImageDataGenerator\n",
    "\n",
    "train_datagen = ImageDataGenerator(rescale = 1./255,\n",
    "                                   shear_range = 0.2,\n",
    "                                   zoom_range = 0.2,\n",
    "                                   horizontal_flip = True)\n",
    "\n",
    "test_datagen = ImageDataGenerator(rescale = 1./255)\n",
    "\n",
    "training_set = train_datagen.flow_from_directory('dataset/train',\n",
    "                                                 target_size = (224, 224),\n",
    "                                                 batch_size = 32,\n",
    "                                                 class_mode = 'categorical')\n",
    "\n",
    "test_set = test_datagen.flow_from_directory('dataset/val',\n",
    "                                            target_size = (224, 224),\n",
    "                                            batch_size = 32,\n",
    "                                            class_mode = 'categorical')"
   ]
  },
  {
   "cell_type": "code",
   "execution_count": 10,
   "id": "bdb47a31",
   "metadata": {},
   "outputs": [
    {
     "name": "stderr",
     "output_type": "stream",
     "text": [
      "C:\\Users\\rohit\\AppData\\Local\\Temp\\ipykernel_5944\\1138423934.py:2: UserWarning: `Model.fit_generator` is deprecated and will be removed in a future version. Please use `Model.fit`, which supports generators.\n",
      "  r = model.fit_generator(\n"
     ]
    },
    {
     "name": "stdout",
     "output_type": "stream",
     "text": [
      "Epoch 1/25\n",
      "7/7 [==============================] - 32s 5s/step - loss: 2.3173 - accuracy: 0.2857 - val_loss: 1.7246 - val_accuracy: 0.6140\n",
      "Epoch 2/25\n",
      "7/7 [==============================] - 29s 4s/step - loss: 1.1065 - accuracy: 0.5806 - val_loss: 0.7283 - val_accuracy: 0.7368\n",
      "Epoch 3/25\n",
      "7/7 [==============================] - 29s 4s/step - loss: 0.7256 - accuracy: 0.7512 - val_loss: 0.5292 - val_accuracy: 0.8772\n",
      "Epoch 4/25\n",
      "7/7 [==============================] - 29s 4s/step - loss: 0.4469 - accuracy: 0.8848 - val_loss: 0.5242 - val_accuracy: 0.7895\n",
      "Epoch 5/25\n",
      "7/7 [==============================] - 29s 4s/step - loss: 0.3835 - accuracy: 0.8802 - val_loss: 0.5109 - val_accuracy: 0.8246\n",
      "Epoch 6/25\n",
      "7/7 [==============================] - 29s 4s/step - loss: 0.2925 - accuracy: 0.9032 - val_loss: 0.4732 - val_accuracy: 0.8070\n",
      "Epoch 7/25\n",
      "7/7 [==============================] - 30s 4s/step - loss: 0.2747 - accuracy: 0.9263 - val_loss: 0.3739 - val_accuracy: 0.8596\n",
      "Epoch 8/25\n",
      "7/7 [==============================] - 30s 4s/step - loss: 0.2449 - accuracy: 0.9263 - val_loss: 0.3202 - val_accuracy: 0.9123\n",
      "Epoch 9/25\n",
      "7/7 [==============================] - 30s 4s/step - loss: 0.1618 - accuracy: 0.9816 - val_loss: 0.3646 - val_accuracy: 0.8246\n",
      "Epoch 10/25\n",
      "7/7 [==============================] - 30s 4s/step - loss: 0.1629 - accuracy: 0.9631 - val_loss: 0.2971 - val_accuracy: 0.8947\n",
      "Epoch 11/25\n",
      "7/7 [==============================] - 30s 4s/step - loss: 0.0977 - accuracy: 0.9954 - val_loss: 0.2457 - val_accuracy: 0.9298\n",
      "Epoch 12/25\n",
      "7/7 [==============================] - 31s 5s/step - loss: 0.0927 - accuracy: 0.9908 - val_loss: 0.2861 - val_accuracy: 0.8772\n",
      "Epoch 13/25\n",
      "7/7 [==============================] - 32s 5s/step - loss: 0.0858 - accuracy: 0.9954 - val_loss: 0.2311 - val_accuracy: 0.9123\n",
      "Epoch 14/25\n",
      "7/7 [==============================] - 30s 4s/step - loss: 0.0872 - accuracy: 0.9954 - val_loss: 0.2492 - val_accuracy: 0.9123\n",
      "Epoch 15/25\n",
      "7/7 [==============================] - 31s 5s/step - loss: 0.0827 - accuracy: 0.9954 - val_loss: 0.2266 - val_accuracy: 0.9298\n",
      "Epoch 16/25\n",
      "7/7 [==============================] - 31s 4s/step - loss: 0.0757 - accuracy: 1.0000 - val_loss: 0.2390 - val_accuracy: 0.9298\n",
      "Epoch 17/25\n",
      "7/7 [==============================] - 30s 4s/step - loss: 0.0758 - accuracy: 0.9908 - val_loss: 0.2395 - val_accuracy: 0.8947\n",
      "Epoch 18/25\n",
      "7/7 [==============================] - 31s 5s/step - loss: 0.0566 - accuracy: 1.0000 - val_loss: 0.2297 - val_accuracy: 0.9123\n",
      "Epoch 19/25\n",
      "7/7 [==============================] - 30s 4s/step - loss: 0.0525 - accuracy: 1.0000 - val_loss: 0.2466 - val_accuracy: 0.8772\n",
      "Epoch 20/25\n",
      "7/7 [==============================] - 29s 4s/step - loss: 0.0678 - accuracy: 0.9908 - val_loss: 0.2243 - val_accuracy: 0.9474\n",
      "Epoch 21/25\n",
      "7/7 [==============================] - 30s 4s/step - loss: 0.0519 - accuracy: 1.0000 - val_loss: 0.2198 - val_accuracy: 0.9649\n",
      "Epoch 22/25\n",
      "7/7 [==============================] - 31s 5s/step - loss: 0.0540 - accuracy: 1.0000 - val_loss: 0.2449 - val_accuracy: 0.8772\n",
      "Epoch 23/25\n",
      "7/7 [==============================] - 33s 5s/step - loss: 0.0554 - accuracy: 0.9954 - val_loss: 0.2229 - val_accuracy: 0.9123\n",
      "Epoch 24/25\n",
      "7/7 [==============================] - 31s 5s/step - loss: 0.0480 - accuracy: 1.0000 - val_loss: 0.2254 - val_accuracy: 0.9123\n",
      "Epoch 25/25\n",
      "7/7 [==============================] - 31s 5s/step - loss: 0.0465 - accuracy: 1.0000 - val_loss: 0.2163 - val_accuracy: 0.9298\n"
     ]
    }
   ],
   "source": [
    "# fit the model\n",
    "r = model.fit_generator(\n",
    "  training_set,\n",
    "  validation_data=test_set,\n",
    "  epochs=25,\n",
    "  steps_per_epoch=len(training_set),\n",
    "  validation_steps=len(test_set)\n",
    ")"
   ]
  },
  {
   "cell_type": "code",
   "execution_count": 11,
   "id": "20bd3808",
   "metadata": {},
   "outputs": [
    {
     "data": {
      "image/png": "[encoded data removed]",
      "text/plain": [
       "<Figure size 432x288 with 1 Axes>"
      ]
     },
     "metadata": {
      "needs_background": "light"
     },
     "output_type": "display_data"
    },
    {
     "data": {
      "text/plain": [
       "<Figure size 432x288 with 0 Axes>"
      ]
     },
     "metadata": {},
     "output_type": "display_data"
    }
   ],
   "source": [
    "# loss\n",
    "plt.plot(r.history['loss'], label='train loss')\n",
    "plt.plot(r.history['val_loss'], label='val loss')\n",
    "plt.legend()\n",
    "plt.show()\n",
    "# plt.savefig('LossVal_loss')\n",
    "\n"
   ]
  },
  {
   "cell_type": "code",
   "execution_count": 12,
   "id": "5d86f2df",
   "metadata": {},
   "outputs": [
    {
     "data": {
      "image/png": "[encoded data removed]",
      "text/plain": [
       "<Figure size 432x288 with 1 Axes>"
      ]
     },
     "metadata": {
      "needs_background": "light"
     },
     "output_type": "display_data"
    },
    {
     "data": {
      "text/plain": [
       "<Figure size 432x288 with 0 Axes>"
      ]
     },
     "metadata": {},
     "output_type": "display_data"
    }
   ],
   "source": [
    "# accuracies\n",
    "plt.plot(r.history['accuracy'], label='train acc')\n",
    "plt.plot(r.history['val_accuracy'], label='val acc')\n",
    "plt.legend()\n",
    "plt.show()\n",
    "# plt.savefig('AccVal_acc')\n"
   ]
  },
  {
   "cell_type": "code",
   "execution_count": 15,
   "id": "25f05d9e",
   "metadata": {},
   "outputs": [],
   "source": [
    "import tensorflow as tf\n",
    "\n",
    "from keras.models import load_model\n",
    "\n",
    "model.save('Saved Models/facefeatures_new_model_VGG19.h5')"
   ]
  },
  {
   "cell_type": "code",
   "execution_count": null,
   "id": "f47c4228",
   "metadata": {},
   "outputs": [],
   "source": []
  },
  {
   "cell_type": "code",
   "execution_count": null,
   "id": "577de680",
   "metadata": {},
   "outputs": [],
   "source": []
  },
  {
   "cell_type": "code",
   "execution_count": null,
   "id": "b8c982f0",
   "metadata": {},
   "outputs": [],
   "source": []
  },
  {
   "cell_type": "code",
   "execution_count": null,
   "id": "9b19e7c7",
   "metadata": {},
   "outputs": [],
   "source": []
  }
 ],
 "metadata": {
  "kernelspec": {
   "display_name": "Python 3 (ipykernel)",
   "language": "python",
   "name": "python3"
  },
  "language_info": {
   "codemirror_mode": {
    "name": "ipython",
    "version": 3
   },
   "file_extension": ".py",
   "mimetype": "text/x-python",
   "name": "python",
   "nbconvert_exporter": "python",
   "pygments_lexer": "ipython3",
   "version": "3.10.4"
  }
 },
 "nbformat": 4,
 "nbformat_minor": 5
}
