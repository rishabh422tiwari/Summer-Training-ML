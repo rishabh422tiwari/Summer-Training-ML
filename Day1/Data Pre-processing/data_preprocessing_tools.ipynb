{
  "nbformat": 4,
  "nbformat_minor": 0,
  "metadata": {
    "colab": {
      "name": "data_preprocessing_tools.ipynb",
      "provenance": [],
      "collapsed_sections": [],
      "include_colab_link": true
    },
    "kernelspec": {
      "name": "python3",
      "display_name": "Python 3"
    }
  },
  "cells": [
    {
      "cell_type": "markdown",
      "metadata": {
        "id": "view-in-github",
        "colab_type": "text"
      },
      "source": [
        "<a href=\"https://colab.research.google.com/github/rishabh422tiwari/Summer-Training-ML/blob/main/Day1/Data%20Pre-processing/data_preprocessing_tools.ipynb\" target=\"_parent\"><img src=\"https://colab.research.google.com/assets/colab-badge.svg\" alt=\"Open In Colab\"/></a>"
      ]
    },
    {
      "cell_type": "markdown",
      "metadata": {
        "id": "37puETfgRzzg"
      },
      "source": [
        "# Data Preprocessing Tools"
      ]
    },
    {
      "cell_type": "markdown",
      "metadata": {
        "id": "EoRP98MpR-qj"
      },
      "source": [
        "## Importing the libraries"
      ]
    },
    {
      "cell_type": "code",
      "metadata": {
        "id": "N-qiINBQSK2g"
      },
      "source": [
        "import numpy as np          # numpy is deal with numerical values\n",
        "import matplotlib.pyplot as plt     #for ploting graphs and visualization\n",
        "import pandas as pd                 # for manupliating and perform operations on dataframes"
      ],
      "execution_count": 74,
      "outputs": []
    },
    {
      "cell_type": "markdown",
      "metadata": {
        "id": "RopL7tUZSQkT"
      },
      "source": [
        "## Importing the dataset"
      ]
    },
    {
      "cell_type": "code",
      "metadata": {
        "id": "WwEPNDWySTKm"
      },
      "source": [
        "dataset = pd.read_csv('/content/sample_data/Data.csv')\n",
        "X = dataset.iloc[:, :-1].values       #Location by index   from starting index is 0,1,2,3 and from back it is -1,-2...\n",
        "y = dataset.iloc[:, -1].values        # [row upper:row lower,col upper:col lower]"
      ],
      "execution_count": 75,
      "outputs": []
    },
    {
      "cell_type": "code",
      "metadata": {
        "id": "hCsz2yCebe1R",
        "outputId": "740ecba1-3ee4-4d35-d18a-a9b5781a07b4",
        "colab": {
          "base_uri": "https://localhost:8080/"
        }
      },
      "source": [
        "print(X)"
      ],
      "execution_count": 76,
      "outputs": [
        {
          "output_type": "stream",
          "name": "stdout",
          "text": [
            "[['France' 44.0 72000.0]\n",
            " ['Spain' 27.0 48000.0]\n",
            " ['Germany' 30.0 54000.0]\n",
            " ['Spain' 38.0 61000.0]\n",
            " ['Germany' 40.0 nan]\n",
            " ['France' 35.0 58000.0]\n",
            " ['Spain' nan 52000.0]\n",
            " ['France' 48.0 79000.0]\n",
            " ['Germany' 50.0 83000.0]\n",
            " ['France' 37.0 67000.0]]\n"
          ]
        }
      ]
    },
    {
      "cell_type": "code",
      "metadata": {
        "id": "eYrOQ43XcJR3",
        "outputId": "0269c67f-664d-41dc-9f1e-35664fa89da1",
        "colab": {
          "base_uri": "https://localhost:8080/"
        }
      },
      "source": [
        "print(y)"
      ],
      "execution_count": 77,
      "outputs": [
        {
          "output_type": "stream",
          "name": "stdout",
          "text": [
            "['No' 'Yes' 'No' 'No' 'Yes' 'Yes' 'No' 'Yes' 'No' 'Yes']\n"
          ]
        }
      ]
    },
    {
      "cell_type": "markdown",
      "metadata": {
        "id": "nhfKXNxlSabC"
      },
      "source": [
        "## Taking care of missing data"
      ]
    },
    {
      "cell_type": "code",
      "metadata": {
        "id": "c93k7ipkSexq"
      },
      "source": [
        "from sklearn.impute import SimpleImputer                             # sklearn function to fill missing values\n",
        "imputer = SimpleImputer(missing_values=np.nan, strategy='mean')     #creating object name \"imputer\"\n",
        "imputer.fit(X[:, 1:3])                                               #fit our function on X\n",
        "X[:, 1:3] = imputer.transform(X[:, 1:3])                             #transform means implement"
      ],
      "execution_count": 78,
      "outputs": []
    },
    {
      "cell_type": "code",
      "metadata": {
        "id": "3UgLdMS_bjq_",
        "outputId": "06eb7912-2d6d-4568-8959-38a8fd81caec",
        "colab": {
          "base_uri": "https://localhost:8080/"
        }
      },
      "source": [
        "print(X)"
      ],
      "execution_count": 79,
      "outputs": [
        {
          "output_type": "stream",
          "name": "stdout",
          "text": [
            "[['France' 44.0 72000.0]\n",
            " ['Spain' 27.0 48000.0]\n",
            " ['Germany' 30.0 54000.0]\n",
            " ['Spain' 38.0 61000.0]\n",
            " ['Germany' 40.0 63777.77777777778]\n",
            " ['France' 35.0 58000.0]\n",
            " ['Spain' 38.77777777777778 52000.0]\n",
            " ['France' 48.0 79000.0]\n",
            " ['Germany' 50.0 83000.0]\n",
            " ['France' 37.0 67000.0]]\n"
          ]
        }
      ]
    },
    {
      "cell_type": "markdown",
      "metadata": {
        "id": "CriG6VzVSjcK"
      },
      "source": [
        "## Encoding categorical data"
      ]
    },
    {
      "cell_type": "markdown",
      "metadata": {
        "id": "AhSpdQWeSsFh"
      },
      "source": [
        "### Encoding the Independent Variable"
      ]
    },
    {
      "cell_type": "code",
      "metadata": {
        "id": "5hwuVddlSwVi"
      },
      "source": [
        "from sklearn.compose import ColumnTransformer                        \n",
        "from sklearn.preprocessing import OneHotEncoder                                                    #OneHotEncoder convert code to one 1 and rest of the catogory to zero ex: [0,1,0,0]\n",
        "ct = ColumnTransformer(transformers=[('encoder', OneHotEncoder(), [0])], remainder='passthrough')  # used passthrough because we want to encode col 1 but also want to retain rest of the col.\n",
        "X = np.array(ct.fit_transform(X))"
      ],
      "execution_count": 80,
      "outputs": []
    },
    {
      "cell_type": "code",
      "metadata": {
        "id": "f7QspewyeBfx",
        "outputId": "8ef577b9-e912-4060-f461-aa97da1b1fdd",
        "colab": {
          "base_uri": "https://localhost:8080/"
        }
      },
      "source": [
        "print(X)"
      ],
      "execution_count": 81,
      "outputs": [
        {
          "output_type": "stream",
          "name": "stdout",
          "text": [
            "[[1.0 0.0 0.0 44.0 72000.0]\n",
            " [0.0 0.0 1.0 27.0 48000.0]\n",
            " [0.0 1.0 0.0 30.0 54000.0]\n",
            " [0.0 0.0 1.0 38.0 61000.0]\n",
            " [0.0 1.0 0.0 40.0 63777.77777777778]\n",
            " [1.0 0.0 0.0 35.0 58000.0]\n",
            " [0.0 0.0 1.0 38.77777777777778 52000.0]\n",
            " [1.0 0.0 0.0 48.0 79000.0]\n",
            " [0.0 1.0 0.0 50.0 83000.0]\n",
            " [1.0 0.0 0.0 37.0 67000.0]]\n"
          ]
        }
      ]
    },
    {
      "cell_type": "markdown",
      "metadata": {
        "id": "DXh8oVSITIc6"
      },
      "source": [
        "### Encoding the Dependent Variable"
      ]
    },
    {
      "cell_type": "code",
      "metadata": {
        "id": "XgHCShVyTOYY"
      },
      "source": [
        "from sklearn.preprocessing import LabelEncoder      # encoding target col.\n",
        "le = LabelEncoder()                                 # le is object of LabelEncoder\n",
        "y = le.fit_transform(y)                             # conversion happened in this step"
      ],
      "execution_count": 82,
      "outputs": []
    },
    {
      "cell_type": "code",
      "metadata": {
        "id": "FyhY8-gPpFCa",
        "outputId": "5da9e2a0-1790-4cb1-c66e-6fbd047f0634",
        "colab": {
          "base_uri": "https://localhost:8080/"
        }
      },
      "source": [
        "print(y)"
      ],
      "execution_count": 83,
      "outputs": [
        {
          "output_type": "stream",
          "name": "stdout",
          "text": [
            "[0 1 0 0 1 1 0 1 0 1]\n"
          ]
        }
      ]
    },
    {
      "cell_type": "markdown",
      "metadata": {
        "id": "qb_vcgm3qZKW"
      },
      "source": [
        "## Splitting the dataset into the Training set and Test set"
      ]
    },
    {
      "cell_type": "code",
      "metadata": {
        "id": "pXgA6CzlqbCl"
      },
      "source": [
        "from sklearn.model_selection import train_test_split                                            # train_test_split for splitting to train data and test data\n",
        "X_train, X_test, y_train, y_test = train_test_split(X, y, test_size = 0.2, random_state = 1)    # function for train test split (if random state is same for two user on the same data both will have same data in train and test)\n",
        "                                                                                                # test size usually done in 80 train & test but 70-30,90-10 can be seen also"
      ],
      "execution_count": 84,
      "outputs": []
    },
    {
      "cell_type": "code",
      "metadata": {
        "id": "GuwQhFdKrYTM",
        "outputId": "03d836d1-d9d7-49b7-d71e-5e126d11d76e",
        "colab": {
          "base_uri": "https://localhost:8080/"
        }
      },
      "source": [
        "print(X_train)"
      ],
      "execution_count": 85,
      "outputs": [
        {
          "output_type": "stream",
          "name": "stdout",
          "text": [
            "[[0.0 0.0 1.0 38.77777777777778 52000.0]\n",
            " [0.0 1.0 0.0 40.0 63777.77777777778]\n",
            " [1.0 0.0 0.0 44.0 72000.0]\n",
            " [0.0 0.0 1.0 38.0 61000.0]\n",
            " [0.0 0.0 1.0 27.0 48000.0]\n",
            " [1.0 0.0 0.0 48.0 79000.0]\n",
            " [0.0 1.0 0.0 50.0 83000.0]\n",
            " [1.0 0.0 0.0 35.0 58000.0]]\n"
          ]
        }
      ]
    },
    {
      "cell_type": "code",
      "metadata": {
        "id": "TUrX_Tvcrbi4",
        "outputId": "7192a47b-3af6-464f-f212-bb0388b3ccc8",
        "colab": {
          "base_uri": "https://localhost:8080/"
        }
      },
      "source": [
        "print(X_test)"
      ],
      "execution_count": 86,
      "outputs": [
        {
          "output_type": "stream",
          "name": "stdout",
          "text": [
            "[[0.0 1.0 0.0 30.0 54000.0]\n",
            " [1.0 0.0 0.0 37.0 67000.0]]\n"
          ]
        }
      ]
    },
    {
      "cell_type": "code",
      "metadata": {
        "id": "pSMHiIsWreQY",
        "outputId": "6a5673ac-ad08-4443-b794-fb1263dc53fc",
        "colab": {
          "base_uri": "https://localhost:8080/"
        }
      },
      "source": [
        "print(y_train)"
      ],
      "execution_count": 87,
      "outputs": [
        {
          "output_type": "stream",
          "name": "stdout",
          "text": [
            "[0 1 0 0 1 1 0 1]\n"
          ]
        }
      ]
    },
    {
      "cell_type": "code",
      "metadata": {
        "id": "I_tW7H56rgtW",
        "outputId": "1ace7562-91d4-47e6-981d-6f70635d5058",
        "colab": {
          "base_uri": "https://localhost:8080/"
        }
      },
      "source": [
        "print(y_test)"
      ],
      "execution_count": 88,
      "outputs": [
        {
          "output_type": "stream",
          "name": "stdout",
          "text": [
            "[0 1]\n"
          ]
        }
      ]
    },
    {
      "cell_type": "markdown",
      "metadata": {
        "id": "TpGqbS4TqkIR"
      },
      "source": [
        "## Feature Scaling"
      ]
    },
    {
      "cell_type": "code",
      "source": [
        "# from sklearn.preprocessing import MinMaxScaler\n",
        "# scaler = MinMaxScaler()\n",
        "# X_train[:, 3:] = scaler.fit_transform(X_train[:, 3:])\n",
        "# X_test[:, 3:] = scaler.transform(X_test[:, 3:])"
      ],
      "metadata": {
        "id": "ay-chzd8p3Bp"
      },
      "execution_count": 93,
      "outputs": []
    },
    {
      "cell_type": "code",
      "metadata": {
        "id": "AxjSUXFQqo-3"
      },
      "source": [
        "from sklearn.preprocessing import StandardScaler             # StandardScaler is one of a function to scale up or down, used when one col. is dominating another one\n",
        "sc = StandardScaler()                                        # sc is an object\n",
        "X_train[:, 3:] = sc.fit_transform(X_train[:, 3:])            # we are used fit_transform because we want it to transform it to scaled form and we want it to learn from train data\n",
        "X_test[:, 3:] = sc.transform(X_test[:, 3:])                  # NOTICE : we have only used transform and not 'fit_transform' because we only want to convert in scaled form and don't want it to learn from test data"
      ],
      "execution_count": 95,
      "outputs": []
    },
    {
      "cell_type": "code",
      "metadata": {
        "id": "DWPET8ZdlMnu",
        "colab": {
          "base_uri": "https://localhost:8080/"
        },
        "outputId": "085c27ed-9138-4d36-d0ae-1811f4ce1d56"
      },
      "source": [
        "print(X_train)"
      ],
      "execution_count": 96,
      "outputs": [
        {
          "output_type": "stream",
          "name": "stdout",
          "text": [
            "[[0.0 0.0 1.0 -0.19159184384578537 -1.0781259408412425]\n",
            " [0.0 1.0 0.0 -0.014117293757057581 -0.0701316764163542]\n",
            " [1.0 0.0 0.0 0.5667085065333245 0.6335624327104543]\n",
            " [0.0 0.0 1.0 -0.3045301939022482 -0.30786617274297856]\n",
            " [0.0 0.0 1.0 -1.9018011447007988 -1.4204636155515822]\n",
            " [1.0 0.0 0.0 1.147534306823706 1.2326533634535488]\n",
            " [0.0 1.0 0.0 1.4379472069688968 1.5749910381638885]\n",
            " [1.0 0.0 0.0 -0.7401495441200352 -0.5646194287757337]]\n"
          ]
        }
      ]
    },
    {
      "cell_type": "code",
      "metadata": {
        "id": "sTXykB_QlRjE",
        "colab": {
          "base_uri": "https://localhost:8080/"
        },
        "outputId": "2ed85bf3-c969-444d-9c14-aadd9fd04319"
      },
      "source": [
        "print(X_test)"
      ],
      "execution_count": 97,
      "outputs": [
        {
          "output_type": "stream",
          "name": "stdout",
          "text": [
            "[[0.0 1.0 0.0 -1.4661817944830118 -0.9069571034860727]\n",
            " [1.0 0.0 0.0 -0.4497366439748436 0.20564033932252998]]\n"
          ]
        }
      ]
    },
    {
      "cell_type": "code",
      "source": [
        "# MinMaxScaler : scales all the data features in the range [0, 1] or else in the range [-1, 1] if there are negative values in the dataset\n",
        "# StandardScaler : it makes mean = 0 and scales the data to unit (1) variance "
      ],
      "metadata": {
        "id": "UFsHKu5Gxq_j"
      },
      "execution_count": null,
      "outputs": []
    }
  ]
}